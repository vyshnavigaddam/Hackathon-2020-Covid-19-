{
 "cells": [
  {
   "cell_type": "code",
   "execution_count": 1,
   "metadata": {},
   "outputs": [],
   "source": [
    "import numpy as np\n",
    "import pandas as pd\n",
    "import os"
   ]
  },
  {
   "cell_type": "code",
   "execution_count": 2,
   "metadata": {},
   "outputs": [],
   "source": [
    "os.chdir(\"C:/Users/vyshn/Desktop/Data sets\")\n",
    "test = pd.read_excel('Test_dataset.xlsx')"
   ]
  },
  {
   "cell_type": "code",
   "execution_count": 3,
   "metadata": {},
   "outputs": [
    {
     "data": {
      "text/html": [
       "<div>\n",
       "<style scoped>\n",
       "    .dataframe tbody tr th:only-of-type {\n",
       "        vertical-align: middle;\n",
       "    }\n",
       "\n",
       "    .dataframe tbody tr th {\n",
       "        vertical-align: top;\n",
       "    }\n",
       "\n",
       "    .dataframe thead th {\n",
       "        text-align: right;\n",
       "    }\n",
       "</style>\n",
       "<table border=\"1\" class=\"dataframe\">\n",
       "  <thead>\n",
       "    <tr style=\"text-align: right;\">\n",
       "      <th></th>\n",
       "      <th>City</th>\n",
       "      <th>State</th>\n",
       "      <th>Type</th>\n",
       "      <th>Population [2011]</th>\n",
       "      <th>Popuation [2001]</th>\n",
       "      <th>Sex Ratio</th>\n",
       "      <th>Median Age</th>\n",
       "      <th>Avg Temp</th>\n",
       "      <th>SWM</th>\n",
       "      <th>Toilets Avl</th>\n",
       "      <th>Water Purity</th>\n",
       "      <th>H Index</th>\n",
       "      <th>Female Population</th>\n",
       "      <th># of hospitals</th>\n",
       "      <th>Foreign Visitors</th>\n",
       "    </tr>\n",
       "  </thead>\n",
       "  <tbody>\n",
       "    <tr>\n",
       "      <th>0</th>\n",
       "      <td>Tuensang</td>\n",
       "      <td>Nagaland</td>\n",
       "      <td>T.C</td>\n",
       "      <td>36774.0</td>\n",
       "      <td>NaN</td>\n",
       "      <td>931.0</td>\n",
       "      <td>23.0</td>\n",
       "      <td>10.0</td>\n",
       "      <td>MEDIUM</td>\n",
       "      <td>94.0</td>\n",
       "      <td>114.0</td>\n",
       "      <td>0.253390</td>\n",
       "      <td>34237.0</td>\n",
       "      <td>17.0</td>\n",
       "      <td>2769.0</td>\n",
       "    </tr>\n",
       "    <tr>\n",
       "      <th>1</th>\n",
       "      <td>Lakshmeshwar</td>\n",
       "      <td>Karnataka</td>\n",
       "      <td>T.M.C</td>\n",
       "      <td>36754.0</td>\n",
       "      <td>NaN</td>\n",
       "      <td>934.0</td>\n",
       "      <td>25.0</td>\n",
       "      <td>38.0</td>\n",
       "      <td>HIGH</td>\n",
       "      <td>62.0</td>\n",
       "      <td>160.0</td>\n",
       "      <td>0.192555</td>\n",
       "      <td>34328.0</td>\n",
       "      <td>13.0</td>\n",
       "      <td>636502.0</td>\n",
       "    </tr>\n",
       "    <tr>\n",
       "      <th>2</th>\n",
       "      <td>Zira</td>\n",
       "      <td>Punjab</td>\n",
       "      <td>M.Cl.</td>\n",
       "      <td>36732.0</td>\n",
       "      <td>NaN</td>\n",
       "      <td>883.0</td>\n",
       "      <td>29.0</td>\n",
       "      <td>35.0</td>\n",
       "      <td>HIGH</td>\n",
       "      <td>63.0</td>\n",
       "      <td>105.0</td>\n",
       "      <td>0.887882</td>\n",
       "      <td>32434.0</td>\n",
       "      <td>17.0</td>\n",
       "      <td>242367.0</td>\n",
       "    </tr>\n",
       "    <tr>\n",
       "      <th>3</th>\n",
       "      <td>Yawal</td>\n",
       "      <td>Maharashtra</td>\n",
       "      <td>M.Cl</td>\n",
       "      <td>36706.0</td>\n",
       "      <td>NaN</td>\n",
       "      <td>887.0</td>\n",
       "      <td>26.0</td>\n",
       "      <td>31.0</td>\n",
       "      <td>HIGH</td>\n",
       "      <td>60.0</td>\n",
       "      <td>174.0</td>\n",
       "      <td>0.407838</td>\n",
       "      <td>32558.0</td>\n",
       "      <td>11.0</td>\n",
       "      <td>4408916.0</td>\n",
       "    </tr>\n",
       "    <tr>\n",
       "      <th>4</th>\n",
       "      <td>Thana Bhawan</td>\n",
       "      <td>Uttar Pradesh</td>\n",
       "      <td>N.P.</td>\n",
       "      <td>36669.0</td>\n",
       "      <td>NaN</td>\n",
       "      <td>877.0</td>\n",
       "      <td>28.0</td>\n",
       "      <td>39.0</td>\n",
       "      <td>LOW</td>\n",
       "      <td>92.0</td>\n",
       "      <td>153.0</td>\n",
       "      <td>0.324456</td>\n",
       "      <td>32159.0</td>\n",
       "      <td>23.0</td>\n",
       "      <td>3104060.0</td>\n",
       "    </tr>\n",
       "  </tbody>\n",
       "</table>\n",
       "</div>"
      ],
      "text/plain": [
       "           City          State   Type  Population [2011]  Popuation [2001]  \\\n",
       "0      Tuensang       Nagaland    T.C            36774.0               NaN   \n",
       "1  Lakshmeshwar      Karnataka  T.M.C            36754.0               NaN   \n",
       "2          Zira         Punjab  M.Cl.            36732.0               NaN   \n",
       "3         Yawal    Maharashtra   M.Cl            36706.0               NaN   \n",
       "4  Thana Bhawan  Uttar Pradesh   N.P.            36669.0               NaN   \n",
       "\n",
       "   Sex Ratio  Median Age  Avg Temp     SWM  Toilets Avl  Water Purity  \\\n",
       "0      931.0        23.0      10.0  MEDIUM         94.0         114.0   \n",
       "1      934.0        25.0      38.0    HIGH         62.0         160.0   \n",
       "2      883.0        29.0      35.0    HIGH         63.0         105.0   \n",
       "3      887.0        26.0      31.0    HIGH         60.0         174.0   \n",
       "4      877.0        28.0      39.0     LOW         92.0         153.0   \n",
       "\n",
       "    H Index  Female Population  # of hospitals  Foreign Visitors  \n",
       "0  0.253390            34237.0            17.0            2769.0  \n",
       "1  0.192555            34328.0            13.0          636502.0  \n",
       "2  0.887882            32434.0            17.0          242367.0  \n",
       "3  0.407838            32558.0            11.0         4408916.0  \n",
       "4  0.324456            32159.0            23.0         3104060.0  "
      ]
     },
     "execution_count": 3,
     "metadata": {},
     "output_type": "execute_result"
    }
   ],
   "source": [
    "test.head()"
   ]
  },
  {
   "cell_type": "code",
   "execution_count": 4,
   "metadata": {},
   "outputs": [],
   "source": [
    "train = pd.read_excel('Train_dataset.xlsx')"
   ]
  },
  {
   "cell_type": "code",
   "execution_count": 5,
   "metadata": {},
   "outputs": [
    {
     "data": {
      "text/html": [
       "<div>\n",
       "<style scoped>\n",
       "    .dataframe tbody tr th:only-of-type {\n",
       "        vertical-align: middle;\n",
       "    }\n",
       "\n",
       "    .dataframe tbody tr th {\n",
       "        vertical-align: top;\n",
       "    }\n",
       "\n",
       "    .dataframe thead th {\n",
       "        text-align: right;\n",
       "    }\n",
       "</style>\n",
       "<table border=\"1\" class=\"dataframe\">\n",
       "  <thead>\n",
       "    <tr style=\"text-align: right;\">\n",
       "      <th></th>\n",
       "      <th>City</th>\n",
       "      <th>State</th>\n",
       "      <th>Type</th>\n",
       "      <th>Population [2011]</th>\n",
       "      <th>Popuation [2001]</th>\n",
       "      <th>Sex Ratio</th>\n",
       "      <th>Median Age</th>\n",
       "      <th>Avg Temp</th>\n",
       "      <th>SWM</th>\n",
       "      <th>Toilets Avl</th>\n",
       "      <th>Water Purity</th>\n",
       "      <th>H Index</th>\n",
       "      <th>Female Population</th>\n",
       "      <th># of hospitals</th>\n",
       "      <th>Foreign Visitors</th>\n",
       "      <th>Covid Cases</th>\n",
       "    </tr>\n",
       "  </thead>\n",
       "  <tbody>\n",
       "    <tr>\n",
       "      <th>0</th>\n",
       "      <td>Mumbai</td>\n",
       "      <td>Maharashtra</td>\n",
       "      <td>M.C</td>\n",
       "      <td>12442373.0</td>\n",
       "      <td>11978450.0</td>\n",
       "      <td>878.0</td>\n",
       "      <td>23.0</td>\n",
       "      <td>32.0</td>\n",
       "      <td>MEDIUM</td>\n",
       "      <td>219.0</td>\n",
       "      <td>150.0</td>\n",
       "      <td>0.700440</td>\n",
       "      <td>10924403.0</td>\n",
       "      <td>159.0</td>\n",
       "      <td>4408916.0</td>\n",
       "      <td>163115</td>\n",
       "    </tr>\n",
       "    <tr>\n",
       "      <th>1</th>\n",
       "      <td>Delhi</td>\n",
       "      <td>Delhi</td>\n",
       "      <td>M.C</td>\n",
       "      <td>11007835.0</td>\n",
       "      <td>9879172.0</td>\n",
       "      <td>858.0</td>\n",
       "      <td>27.0</td>\n",
       "      <td>30.0</td>\n",
       "      <td>MEDIUM</td>\n",
       "      <td>215.0</td>\n",
       "      <td>196.0</td>\n",
       "      <td>0.920018</td>\n",
       "      <td>9444722.0</td>\n",
       "      <td>148.0</td>\n",
       "      <td>2379169.0</td>\n",
       "      <td>80188</td>\n",
       "    </tr>\n",
       "    <tr>\n",
       "      <th>2</th>\n",
       "      <td>Bangalore</td>\n",
       "      <td>Karnataka</td>\n",
       "      <td>MPUA</td>\n",
       "      <td>8436675.0</td>\n",
       "      <td>4301326.0</td>\n",
       "      <td>936.0</td>\n",
       "      <td>28.0</td>\n",
       "      <td>37.0</td>\n",
       "      <td>HIGH</td>\n",
       "      <td>212.0</td>\n",
       "      <td>102.0</td>\n",
       "      <td>0.097085</td>\n",
       "      <td>7896728.0</td>\n",
       "      <td>123.0</td>\n",
       "      <td>636502.0</td>\n",
       "      <td>141000</td>\n",
       "    </tr>\n",
       "    <tr>\n",
       "      <th>3</th>\n",
       "      <td>Hyderabad</td>\n",
       "      <td>Telangana</td>\n",
       "      <td>MPUA</td>\n",
       "      <td>6809970.0</td>\n",
       "      <td>3637483.0</td>\n",
       "      <td>930.0</td>\n",
       "      <td>23.0</td>\n",
       "      <td>31.0</td>\n",
       "      <td>MEDIUM</td>\n",
       "      <td>217.0</td>\n",
       "      <td>118.0</td>\n",
       "      <td>0.827744</td>\n",
       "      <td>6333272.0</td>\n",
       "      <td>110.0</td>\n",
       "      <td>126078.0</td>\n",
       "      <td>55123</td>\n",
       "    </tr>\n",
       "    <tr>\n",
       "      <th>4</th>\n",
       "      <td>Ahmedabad</td>\n",
       "      <td>Gujarat</td>\n",
       "      <td>MPUA</td>\n",
       "      <td>5570585.0</td>\n",
       "      <td>3520085.0</td>\n",
       "      <td>852.0</td>\n",
       "      <td>29.0</td>\n",
       "      <td>25.0</td>\n",
       "      <td>LOW</td>\n",
       "      <td>227.0</td>\n",
       "      <td>109.0</td>\n",
       "      <td>0.847941</td>\n",
       "      <td>4746138.0</td>\n",
       "      <td>73.0</td>\n",
       "      <td>284973.0</td>\n",
       "      <td>33204</td>\n",
       "    </tr>\n",
       "  </tbody>\n",
       "</table>\n",
       "</div>"
      ],
      "text/plain": [
       "        City        State  Type  Population [2011]  Popuation [2001]  \\\n",
       "0     Mumbai  Maharashtra   M.C         12442373.0        11978450.0   \n",
       "1      Delhi        Delhi   M.C         11007835.0         9879172.0   \n",
       "2  Bangalore    Karnataka  MPUA          8436675.0         4301326.0   \n",
       "3  Hyderabad    Telangana  MPUA          6809970.0         3637483.0   \n",
       "4  Ahmedabad      Gujarat  MPUA          5570585.0         3520085.0   \n",
       "\n",
       "   Sex Ratio  Median Age  Avg Temp     SWM  Toilets Avl  Water Purity  \\\n",
       "0      878.0        23.0      32.0  MEDIUM        219.0         150.0   \n",
       "1      858.0        27.0      30.0  MEDIUM        215.0         196.0   \n",
       "2      936.0        28.0      37.0    HIGH        212.0         102.0   \n",
       "3      930.0        23.0      31.0  MEDIUM        217.0         118.0   \n",
       "4      852.0        29.0      25.0     LOW        227.0         109.0   \n",
       "\n",
       "    H Index  Female Population  # of hospitals  Foreign Visitors  Covid Cases  \n",
       "0  0.700440         10924403.0           159.0         4408916.0       163115  \n",
       "1  0.920018          9444722.0           148.0         2379169.0        80188  \n",
       "2  0.097085          7896728.0           123.0          636502.0       141000  \n",
       "3  0.827744          6333272.0           110.0          126078.0        55123  \n",
       "4  0.847941          4746138.0            73.0          284973.0        33204  "
      ]
     },
     "execution_count": 5,
     "metadata": {},
     "output_type": "execute_result"
    }
   ],
   "source": [
    "train.head()"
   ]
  },
  {
   "cell_type": "code",
   "execution_count": 6,
   "metadata": {},
   "outputs": [
    {
     "data": {
      "text/plain": [
       "City                   0\n",
       "State                  0\n",
       "Type                   2\n",
       "Population [2011]      6\n",
       "Popuation [2001]     501\n",
       "Sex Ratio              5\n",
       "Median Age            13\n",
       "Avg Temp              14\n",
       "SWM                    9\n",
       "Toilets Avl           22\n",
       "Water Purity          19\n",
       "H Index               15\n",
       "Female Population     15\n",
       "# of hospitals        17\n",
       "Foreign Visitors      17\n",
       "dtype: int64"
      ]
     },
     "execution_count": 6,
     "metadata": {},
     "output_type": "execute_result"
    }
   ],
   "source": [
    "test.isnull().sum()"
   ]
  },
  {
   "cell_type": "code",
   "execution_count": 7,
   "metadata": {},
   "outputs": [
    {
     "data": {
      "text/plain": [
       "City                   0\n",
       "State                  0\n",
       "Type                   0\n",
       "Population [2011]     48\n",
       "Popuation [2001]     492\n",
       "Sex Ratio             10\n",
       "Median Age            18\n",
       "Avg Temp              17\n",
       "SWM                    4\n",
       "Toilets Avl           26\n",
       "Water Purity         158\n",
       "H Index              140\n",
       "Female Population    141\n",
       "# of hospitals        15\n",
       "Foreign Visitors      90\n",
       "Covid Cases            0\n",
       "dtype: int64"
      ]
     },
     "execution_count": 7,
     "metadata": {},
     "output_type": "execute_result"
    }
   ],
   "source": [
    "train.isnull().sum()"
   ]
  },
  {
   "cell_type": "code",
   "execution_count": 8,
   "metadata": {},
   "outputs": [],
   "source": [
    "train.fillna(train['Population [2011]'].mean(),inplace = True)\n",
    "train.fillna(train['Popuation [2001]'].mean(),inplace = True)\n",
    "train.fillna(train['Sex Ratio'].mean(),inplace = True)\n",
    "train.fillna(train['Median Age'].mean(),inplace = True)\n",
    "train.fillna(train['Avg Temp'].mean(),inplace = True)\n",
    "train[\"SWM\"].fillna( method ='ffill', inplace = True)\n",
    "train.fillna(train['Toilets Avl'].mean(),inplace = True)\n",
    "train.fillna(train['Water Purity'].mean(),inplace = True)\n",
    "train.fillna(train['H Index'].mean(),inplace = True)\n",
    "train.fillna(train['Female Population'].mean(),inplace = True)\n",
    "train.fillna(train['# of hospitals'].mode(),inplace = True)\n",
    "train.fillna(train['Foreign Visitors'].mean(),inplace = True)"
   ]
  },
  {
   "cell_type": "code",
   "execution_count": 9,
   "metadata": {},
   "outputs": [
    {
     "data": {
      "text/plain": [
       "City                 0\n",
       "State                0\n",
       "Type                 0\n",
       "Population [2011]    0\n",
       "Popuation [2001]     0\n",
       "Sex Ratio            0\n",
       "Median Age           0\n",
       "Avg Temp             0\n",
       "SWM                  0\n",
       "Toilets Avl          0\n",
       "Water Purity         0\n",
       "H Index              0\n",
       "Female Population    0\n",
       "# of hospitals       0\n",
       "Foreign Visitors     0\n",
       "Covid Cases          0\n",
       "dtype: int64"
      ]
     },
     "execution_count": 9,
     "metadata": {},
     "output_type": "execute_result"
    }
   ],
   "source": [
    "train.isnull().sum()"
   ]
  },
  {
   "cell_type": "code",
   "execution_count": 10,
   "metadata": {},
   "outputs": [
    {
     "data": {
      "text/plain": [
       "City                 False\n",
       "State                False\n",
       "Type                 False\n",
       "Population [2011]    False\n",
       "Popuation [2001]     False\n",
       "Sex Ratio            False\n",
       "Median Age           False\n",
       "Avg Temp             False\n",
       "SWM                  False\n",
       "Toilets Avl          False\n",
       "Water Purity         False\n",
       "H Index              False\n",
       "Female Population    False\n",
       "# of hospitals       False\n",
       "Foreign Visitors     False\n",
       "Covid Cases          False\n",
       "dtype: bool"
      ]
     },
     "execution_count": 10,
     "metadata": {},
     "output_type": "execute_result"
    }
   ],
   "source": [
    "train.isnull().any()"
   ]
  },
  {
   "cell_type": "code",
   "execution_count": 11,
   "metadata": {},
   "outputs": [
    {
     "data": {
      "text/plain": [
       "City                  object\n",
       "State                 object\n",
       "Type                  object\n",
       "Population [2011]    float64\n",
       "Popuation [2001]     float64\n",
       "Sex Ratio            float64\n",
       "Median Age           float64\n",
       "Avg Temp             float64\n",
       "SWM                   object\n",
       "Toilets Avl          float64\n",
       "Water Purity         float64\n",
       "H Index              float64\n",
       "Female Population    float64\n",
       "# of hospitals       float64\n",
       "Foreign Visitors     float64\n",
       "Covid Cases            int64\n",
       "dtype: object"
      ]
     },
     "execution_count": 11,
     "metadata": {},
     "output_type": "execute_result"
    }
   ],
   "source": [
    "train.dtypes"
   ]
  },
  {
   "cell_type": "code",
   "execution_count": 12,
   "metadata": {},
   "outputs": [
    {
     "data": {
      "text/plain": [
       "HIGH                 272\n",
       "LOW                  260\n",
       "MEDIUM               251\n",
       "310283.4167794317      4\n",
       "Name: SWM, dtype: int64"
      ]
     },
     "execution_count": 12,
     "metadata": {},
     "output_type": "execute_result"
    }
   ],
   "source": [
    "train['SWM'].value_counts()"
   ]
  },
  {
   "cell_type": "code",
   "execution_count": 13,
   "metadata": {},
   "outputs": [],
   "source": [
    "train.drop(train[train['SWM'] == 310283.4167794317].index, axis=0, inplace = True) "
   ]
  },
  {
   "cell_type": "code",
   "execution_count": 14,
   "metadata": {},
   "outputs": [
    {
     "data": {
      "text/plain": [
       "HIGH      272\n",
       "LOW       260\n",
       "MEDIUM    251\n",
       "Name: SWM, dtype: int64"
      ]
     },
     "execution_count": 14,
     "metadata": {},
     "output_type": "execute_result"
    }
   ],
   "source": [
    "train['SWM'].value_counts()"
   ]
  },
  {
   "cell_type": "code",
   "execution_count": 15,
   "metadata": {},
   "outputs": [
    {
     "data": {
      "text/plain": [
       "Aurangabad     3\n",
       "Ramnagar       3\n",
       "Tiruppur       2\n",
       "Miryalaguda    2\n",
       "Tezpur         2\n",
       "              ..\n",
       "Ujhani         1\n",
       "Parli          1\n",
       "Raiganj        1\n",
       "Bodhan         1\n",
       "Umred          1\n",
       "Name: City, Length: 768, dtype: int64"
      ]
     },
     "execution_count": 15,
     "metadata": {},
     "output_type": "execute_result"
    }
   ],
   "source": [
    "train['City'].value_counts()"
   ]
  },
  {
   "cell_type": "code",
   "execution_count": 16,
   "metadata": {},
   "outputs": [],
   "source": [
    "from sklearn.preprocessing import LabelEncoder #Converting categorical values into the numeric \n",
    "le = LabelEncoder() \n",
    "  \n",
    "train['City']= le.fit_transform(train['City']) \n",
    "train['State']= le.fit_transform(train['State']) \n",
    "train['Type']= le.fit_transform(train['Type']) \n",
    "train['SWM']= le.fit_transform(train['SWM']) "
   ]
  },
  {
   "cell_type": "code",
   "execution_count": 17,
   "metadata": {},
   "outputs": [],
   "source": [
    "train.drop(['Popuation [2001]'], axis='columns', inplace=True)"
   ]
  },
  {
   "cell_type": "code",
   "execution_count": 18,
   "metadata": {},
   "outputs": [
    {
     "data": {
      "text/html": [
       "<div>\n",
       "<style scoped>\n",
       "    .dataframe tbody tr th:only-of-type {\n",
       "        vertical-align: middle;\n",
       "    }\n",
       "\n",
       "    .dataframe tbody tr th {\n",
       "        vertical-align: top;\n",
       "    }\n",
       "\n",
       "    .dataframe thead th {\n",
       "        text-align: right;\n",
       "    }\n",
       "</style>\n",
       "<table border=\"1\" class=\"dataframe\">\n",
       "  <thead>\n",
       "    <tr style=\"text-align: right;\">\n",
       "      <th></th>\n",
       "      <th>City</th>\n",
       "      <th>State</th>\n",
       "      <th>Type</th>\n",
       "      <th>Population [2011]</th>\n",
       "      <th>Sex Ratio</th>\n",
       "      <th>Median Age</th>\n",
       "      <th>Avg Temp</th>\n",
       "      <th>SWM</th>\n",
       "      <th>Toilets Avl</th>\n",
       "      <th>Water Purity</th>\n",
       "      <th>H Index</th>\n",
       "      <th>Female Population</th>\n",
       "      <th># of hospitals</th>\n",
       "      <th>Foreign Visitors</th>\n",
       "      <th>Covid Cases</th>\n",
       "    </tr>\n",
       "  </thead>\n",
       "  <tbody>\n",
       "    <tr>\n",
       "      <th>0</th>\n",
       "      <td>377</td>\n",
       "      <td>16</td>\n",
       "      <td>10</td>\n",
       "      <td>12442373.0</td>\n",
       "      <td>878.0</td>\n",
       "      <td>23.0</td>\n",
       "      <td>32.0</td>\n",
       "      <td>2</td>\n",
       "      <td>219.0</td>\n",
       "      <td>150.0</td>\n",
       "      <td>0.700440</td>\n",
       "      <td>10924403.0</td>\n",
       "      <td>159.0</td>\n",
       "      <td>4408916.0</td>\n",
       "      <td>163115</td>\n",
       "    </tr>\n",
       "    <tr>\n",
       "      <th>1</th>\n",
       "      <td>135</td>\n",
       "      <td>6</td>\n",
       "      <td>10</td>\n",
       "      <td>11007835.0</td>\n",
       "      <td>858.0</td>\n",
       "      <td>27.0</td>\n",
       "      <td>30.0</td>\n",
       "      <td>2</td>\n",
       "      <td>215.0</td>\n",
       "      <td>196.0</td>\n",
       "      <td>0.920018</td>\n",
       "      <td>9444722.0</td>\n",
       "      <td>148.0</td>\n",
       "      <td>2379169.0</td>\n",
       "      <td>80188</td>\n",
       "    </tr>\n",
       "    <tr>\n",
       "      <th>2</th>\n",
       "      <td>52</td>\n",
       "      <td>13</td>\n",
       "      <td>16</td>\n",
       "      <td>8436675.0</td>\n",
       "      <td>936.0</td>\n",
       "      <td>28.0</td>\n",
       "      <td>37.0</td>\n",
       "      <td>0</td>\n",
       "      <td>212.0</td>\n",
       "      <td>102.0</td>\n",
       "      <td>0.097085</td>\n",
       "      <td>7896728.0</td>\n",
       "      <td>123.0</td>\n",
       "      <td>636502.0</td>\n",
       "      <td>141000</td>\n",
       "    </tr>\n",
       "    <tr>\n",
       "      <th>3</th>\n",
       "      <td>210</td>\n",
       "      <td>28</td>\n",
       "      <td>16</td>\n",
       "      <td>6809970.0</td>\n",
       "      <td>930.0</td>\n",
       "      <td>23.0</td>\n",
       "      <td>31.0</td>\n",
       "      <td>2</td>\n",
       "      <td>217.0</td>\n",
       "      <td>118.0</td>\n",
       "      <td>0.827744</td>\n",
       "      <td>6333272.0</td>\n",
       "      <td>110.0</td>\n",
       "      <td>126078.0</td>\n",
       "      <td>55123</td>\n",
       "    </tr>\n",
       "    <tr>\n",
       "      <th>4</th>\n",
       "      <td>3</td>\n",
       "      <td>8</td>\n",
       "      <td>16</td>\n",
       "      <td>5570585.0</td>\n",
       "      <td>852.0</td>\n",
       "      <td>29.0</td>\n",
       "      <td>25.0</td>\n",
       "      <td>1</td>\n",
       "      <td>227.0</td>\n",
       "      <td>109.0</td>\n",
       "      <td>0.847941</td>\n",
       "      <td>4746138.0</td>\n",
       "      <td>73.0</td>\n",
       "      <td>284973.0</td>\n",
       "      <td>33204</td>\n",
       "    </tr>\n",
       "  </tbody>\n",
       "</table>\n",
       "</div>"
      ],
      "text/plain": [
       "   City  State  Type  Population [2011]  Sex Ratio  Median Age  Avg Temp  SWM  \\\n",
       "0   377     16    10         12442373.0      878.0        23.0      32.0    2   \n",
       "1   135      6    10         11007835.0      858.0        27.0      30.0    2   \n",
       "2    52     13    16          8436675.0      936.0        28.0      37.0    0   \n",
       "3   210     28    16          6809970.0      930.0        23.0      31.0    2   \n",
       "4     3      8    16          5570585.0      852.0        29.0      25.0    1   \n",
       "\n",
       "   Toilets Avl  Water Purity   H Index  Female Population  # of hospitals  \\\n",
       "0        219.0         150.0  0.700440         10924403.0           159.0   \n",
       "1        215.0         196.0  0.920018          9444722.0           148.0   \n",
       "2        212.0         102.0  0.097085          7896728.0           123.0   \n",
       "3        217.0         118.0  0.827744          6333272.0           110.0   \n",
       "4        227.0         109.0  0.847941          4746138.0            73.0   \n",
       "\n",
       "   Foreign Visitors  Covid Cases  \n",
       "0         4408916.0       163115  \n",
       "1         2379169.0        80188  \n",
       "2          636502.0       141000  \n",
       "3          126078.0        55123  \n",
       "4          284973.0        33204  "
      ]
     },
     "execution_count": 18,
     "metadata": {},
     "output_type": "execute_result"
    }
   ],
   "source": [
    "train.head()"
   ]
  },
  {
   "cell_type": "code",
   "execution_count": 19,
   "metadata": {},
   "outputs": [
    {
     "data": {
      "text/plain": [
       "2523    6\n",
       "2490    5\n",
       "2208    5\n",
       "2213    4\n",
       "2220    4\n",
       "       ..\n",
       "9809    1\n",
       "8783    1\n",
       "2747    1\n",
       "8776    1\n",
       "2291    1\n",
       "Name: Covid Cases, Length: 639, dtype: int64"
      ]
     },
     "execution_count": 19,
     "metadata": {},
     "output_type": "execute_result"
    }
   ],
   "source": [
    "train['Covid Cases'].value_counts()"
   ]
  },
  {
   "cell_type": "code",
   "execution_count": 20,
   "metadata": {},
   "outputs": [
    {
     "data": {
      "text/html": [
       "<div>\n",
       "<style scoped>\n",
       "    .dataframe tbody tr th:only-of-type {\n",
       "        vertical-align: middle;\n",
       "    }\n",
       "\n",
       "    .dataframe tbody tr th {\n",
       "        vertical-align: top;\n",
       "    }\n",
       "\n",
       "    .dataframe thead th {\n",
       "        text-align: right;\n",
       "    }\n",
       "</style>\n",
       "<table border=\"1\" class=\"dataframe\">\n",
       "  <thead>\n",
       "    <tr style=\"text-align: right;\">\n",
       "      <th></th>\n",
       "      <th>City</th>\n",
       "      <th>State</th>\n",
       "      <th>Type</th>\n",
       "      <th>Population [2011]</th>\n",
       "      <th>Popuation [2001]</th>\n",
       "      <th>Sex Ratio</th>\n",
       "      <th>Median Age</th>\n",
       "      <th>Avg Temp</th>\n",
       "      <th>SWM</th>\n",
       "      <th>Toilets Avl</th>\n",
       "      <th>Water Purity</th>\n",
       "      <th>H Index</th>\n",
       "      <th>Female Population</th>\n",
       "      <th># of hospitals</th>\n",
       "      <th>Foreign Visitors</th>\n",
       "    </tr>\n",
       "  </thead>\n",
       "  <tbody>\n",
       "    <tr>\n",
       "      <th>0</th>\n",
       "      <td>Tuensang</td>\n",
       "      <td>Nagaland</td>\n",
       "      <td>T.C</td>\n",
       "      <td>36774.0</td>\n",
       "      <td>NaN</td>\n",
       "      <td>931.0</td>\n",
       "      <td>23.0</td>\n",
       "      <td>10.0</td>\n",
       "      <td>MEDIUM</td>\n",
       "      <td>94.0</td>\n",
       "      <td>114.0</td>\n",
       "      <td>0.253390</td>\n",
       "      <td>34237.0</td>\n",
       "      <td>17.0</td>\n",
       "      <td>2769.0</td>\n",
       "    </tr>\n",
       "    <tr>\n",
       "      <th>1</th>\n",
       "      <td>Lakshmeshwar</td>\n",
       "      <td>Karnataka</td>\n",
       "      <td>T.M.C</td>\n",
       "      <td>36754.0</td>\n",
       "      <td>NaN</td>\n",
       "      <td>934.0</td>\n",
       "      <td>25.0</td>\n",
       "      <td>38.0</td>\n",
       "      <td>HIGH</td>\n",
       "      <td>62.0</td>\n",
       "      <td>160.0</td>\n",
       "      <td>0.192555</td>\n",
       "      <td>34328.0</td>\n",
       "      <td>13.0</td>\n",
       "      <td>636502.0</td>\n",
       "    </tr>\n",
       "    <tr>\n",
       "      <th>2</th>\n",
       "      <td>Zira</td>\n",
       "      <td>Punjab</td>\n",
       "      <td>M.Cl.</td>\n",
       "      <td>36732.0</td>\n",
       "      <td>NaN</td>\n",
       "      <td>883.0</td>\n",
       "      <td>29.0</td>\n",
       "      <td>35.0</td>\n",
       "      <td>HIGH</td>\n",
       "      <td>63.0</td>\n",
       "      <td>105.0</td>\n",
       "      <td>0.887882</td>\n",
       "      <td>32434.0</td>\n",
       "      <td>17.0</td>\n",
       "      <td>242367.0</td>\n",
       "    </tr>\n",
       "    <tr>\n",
       "      <th>3</th>\n",
       "      <td>Yawal</td>\n",
       "      <td>Maharashtra</td>\n",
       "      <td>M.Cl</td>\n",
       "      <td>36706.0</td>\n",
       "      <td>NaN</td>\n",
       "      <td>887.0</td>\n",
       "      <td>26.0</td>\n",
       "      <td>31.0</td>\n",
       "      <td>HIGH</td>\n",
       "      <td>60.0</td>\n",
       "      <td>174.0</td>\n",
       "      <td>0.407838</td>\n",
       "      <td>32558.0</td>\n",
       "      <td>11.0</td>\n",
       "      <td>4408916.0</td>\n",
       "    </tr>\n",
       "    <tr>\n",
       "      <th>4</th>\n",
       "      <td>Thana Bhawan</td>\n",
       "      <td>Uttar Pradesh</td>\n",
       "      <td>N.P.</td>\n",
       "      <td>36669.0</td>\n",
       "      <td>NaN</td>\n",
       "      <td>877.0</td>\n",
       "      <td>28.0</td>\n",
       "      <td>39.0</td>\n",
       "      <td>LOW</td>\n",
       "      <td>92.0</td>\n",
       "      <td>153.0</td>\n",
       "      <td>0.324456</td>\n",
       "      <td>32159.0</td>\n",
       "      <td>23.0</td>\n",
       "      <td>3104060.0</td>\n",
       "    </tr>\n",
       "  </tbody>\n",
       "</table>\n",
       "</div>"
      ],
      "text/plain": [
       "           City          State   Type  Population [2011]  Popuation [2001]  \\\n",
       "0      Tuensang       Nagaland    T.C            36774.0               NaN   \n",
       "1  Lakshmeshwar      Karnataka  T.M.C            36754.0               NaN   \n",
       "2          Zira         Punjab  M.Cl.            36732.0               NaN   \n",
       "3         Yawal    Maharashtra   M.Cl            36706.0               NaN   \n",
       "4  Thana Bhawan  Uttar Pradesh   N.P.            36669.0               NaN   \n",
       "\n",
       "   Sex Ratio  Median Age  Avg Temp     SWM  Toilets Avl  Water Purity  \\\n",
       "0      931.0        23.0      10.0  MEDIUM         94.0         114.0   \n",
       "1      934.0        25.0      38.0    HIGH         62.0         160.0   \n",
       "2      883.0        29.0      35.0    HIGH         63.0         105.0   \n",
       "3      887.0        26.0      31.0    HIGH         60.0         174.0   \n",
       "4      877.0        28.0      39.0     LOW         92.0         153.0   \n",
       "\n",
       "    H Index  Female Population  # of hospitals  Foreign Visitors  \n",
       "0  0.253390            34237.0            17.0            2769.0  \n",
       "1  0.192555            34328.0            13.0          636502.0  \n",
       "2  0.887882            32434.0            17.0          242367.0  \n",
       "3  0.407838            32558.0            11.0         4408916.0  \n",
       "4  0.324456            32159.0            23.0         3104060.0  "
      ]
     },
     "execution_count": 20,
     "metadata": {},
     "output_type": "execute_result"
    }
   ],
   "source": [
    "test.head()"
   ]
  },
  {
   "cell_type": "code",
   "execution_count": 21,
   "metadata": {},
   "outputs": [
    {
     "data": {
      "text/plain": [
       "City                   0\n",
       "State                  0\n",
       "Type                   2\n",
       "Population [2011]      6\n",
       "Popuation [2001]     501\n",
       "Sex Ratio              5\n",
       "Median Age            13\n",
       "Avg Temp              14\n",
       "SWM                    9\n",
       "Toilets Avl           22\n",
       "Water Purity          19\n",
       "H Index               15\n",
       "Female Population     15\n",
       "# of hospitals        17\n",
       "Foreign Visitors      17\n",
       "dtype: int64"
      ]
     },
     "execution_count": 21,
     "metadata": {},
     "output_type": "execute_result"
    }
   ],
   "source": [
    "test.isnull().sum()"
   ]
  },
  {
   "cell_type": "code",
   "execution_count": 23,
   "metadata": {},
   "outputs": [],
   "source": [
    "test.fillna(test['Population [2011]'].mean(),inplace = True)\n",
    "test.fillna(test['Popuation [2001]'].mean(),inplace = True)\n",
    "test.fillna(test['Sex Ratio'].mean(),inplace = True)\n",
    "test.fillna(test['Median Age'].mean(),inplace = True)\n",
    "test.fillna(test['Avg Temp'].mean(),inplace = True)\n",
    "test[\"SWM\"].fillna( method ='ffill', inplace = True)\n",
    "test.fillna(test['Toilets Avl'].mean(),inplace = True)\n",
    "test.fillna(test['Water Purity'].mean(),inplace = True)\n",
    "test.fillna(test['H Index'].mean(),inplace = True)\n",
    "test.fillna(test['Female Population'].mean(),inplace = True)\n",
    "test.fillna(test['# of hospitals'].mode(),inplace = True)\n",
    "test.fillna(test['Foreign Visitors'].mean(),inplace = True)"
   ]
  },
  {
   "cell_type": "code",
   "execution_count": 24,
   "metadata": {},
   "outputs": [],
   "source": [
    "test.drop(['Popuation [2001]'], axis='columns', inplace=True)"
   ]
  },
  {
   "cell_type": "code",
   "execution_count": 25,
   "metadata": {},
   "outputs": [
    {
     "data": {
      "text/html": [
       "<div>\n",
       "<style scoped>\n",
       "    .dataframe tbody tr th:only-of-type {\n",
       "        vertical-align: middle;\n",
       "    }\n",
       "\n",
       "    .dataframe tbody tr th {\n",
       "        vertical-align: top;\n",
       "    }\n",
       "\n",
       "    .dataframe thead th {\n",
       "        text-align: right;\n",
       "    }\n",
       "</style>\n",
       "<table border=\"1\" class=\"dataframe\">\n",
       "  <thead>\n",
       "    <tr style=\"text-align: right;\">\n",
       "      <th></th>\n",
       "      <th>City</th>\n",
       "      <th>State</th>\n",
       "      <th>Type</th>\n",
       "      <th>Population [2011]</th>\n",
       "      <th>Sex Ratio</th>\n",
       "      <th>Median Age</th>\n",
       "      <th>Avg Temp</th>\n",
       "      <th>SWM</th>\n",
       "      <th>Toilets Avl</th>\n",
       "      <th>Water Purity</th>\n",
       "      <th>H Index</th>\n",
       "      <th>Female Population</th>\n",
       "      <th># of hospitals</th>\n",
       "      <th>Foreign Visitors</th>\n",
       "    </tr>\n",
       "  </thead>\n",
       "  <tbody>\n",
       "    <tr>\n",
       "      <th>0</th>\n",
       "      <td>Tuensang</td>\n",
       "      <td>Nagaland</td>\n",
       "      <td>T.C</td>\n",
       "      <td>36774.0</td>\n",
       "      <td>931.0</td>\n",
       "      <td>23.0</td>\n",
       "      <td>10.0</td>\n",
       "      <td>MEDIUM</td>\n",
       "      <td>94.0</td>\n",
       "      <td>114.0</td>\n",
       "      <td>0.253390</td>\n",
       "      <td>34237.0</td>\n",
       "      <td>17.0</td>\n",
       "      <td>2769.0</td>\n",
       "    </tr>\n",
       "    <tr>\n",
       "      <th>1</th>\n",
       "      <td>Lakshmeshwar</td>\n",
       "      <td>Karnataka</td>\n",
       "      <td>T.M.C</td>\n",
       "      <td>36754.0</td>\n",
       "      <td>934.0</td>\n",
       "      <td>25.0</td>\n",
       "      <td>38.0</td>\n",
       "      <td>HIGH</td>\n",
       "      <td>62.0</td>\n",
       "      <td>160.0</td>\n",
       "      <td>0.192555</td>\n",
       "      <td>34328.0</td>\n",
       "      <td>13.0</td>\n",
       "      <td>636502.0</td>\n",
       "    </tr>\n",
       "    <tr>\n",
       "      <th>2</th>\n",
       "      <td>Zira</td>\n",
       "      <td>Punjab</td>\n",
       "      <td>M.Cl.</td>\n",
       "      <td>36732.0</td>\n",
       "      <td>883.0</td>\n",
       "      <td>29.0</td>\n",
       "      <td>35.0</td>\n",
       "      <td>HIGH</td>\n",
       "      <td>63.0</td>\n",
       "      <td>105.0</td>\n",
       "      <td>0.887882</td>\n",
       "      <td>32434.0</td>\n",
       "      <td>17.0</td>\n",
       "      <td>242367.0</td>\n",
       "    </tr>\n",
       "    <tr>\n",
       "      <th>3</th>\n",
       "      <td>Yawal</td>\n",
       "      <td>Maharashtra</td>\n",
       "      <td>M.Cl</td>\n",
       "      <td>36706.0</td>\n",
       "      <td>887.0</td>\n",
       "      <td>26.0</td>\n",
       "      <td>31.0</td>\n",
       "      <td>HIGH</td>\n",
       "      <td>60.0</td>\n",
       "      <td>174.0</td>\n",
       "      <td>0.407838</td>\n",
       "      <td>32558.0</td>\n",
       "      <td>11.0</td>\n",
       "      <td>4408916.0</td>\n",
       "    </tr>\n",
       "    <tr>\n",
       "      <th>4</th>\n",
       "      <td>Thana Bhawan</td>\n",
       "      <td>Uttar Pradesh</td>\n",
       "      <td>N.P.</td>\n",
       "      <td>36669.0</td>\n",
       "      <td>877.0</td>\n",
       "      <td>28.0</td>\n",
       "      <td>39.0</td>\n",
       "      <td>LOW</td>\n",
       "      <td>92.0</td>\n",
       "      <td>153.0</td>\n",
       "      <td>0.324456</td>\n",
       "      <td>32159.0</td>\n",
       "      <td>23.0</td>\n",
       "      <td>3104060.0</td>\n",
       "    </tr>\n",
       "  </tbody>\n",
       "</table>\n",
       "</div>"
      ],
      "text/plain": [
       "           City          State   Type  Population [2011]  Sex Ratio  \\\n",
       "0      Tuensang       Nagaland    T.C            36774.0      931.0   \n",
       "1  Lakshmeshwar      Karnataka  T.M.C            36754.0      934.0   \n",
       "2          Zira         Punjab  M.Cl.            36732.0      883.0   \n",
       "3         Yawal    Maharashtra   M.Cl            36706.0      887.0   \n",
       "4  Thana Bhawan  Uttar Pradesh   N.P.            36669.0      877.0   \n",
       "\n",
       "   Median Age  Avg Temp     SWM  Toilets Avl  Water Purity   H Index  \\\n",
       "0        23.0      10.0  MEDIUM         94.0         114.0  0.253390   \n",
       "1        25.0      38.0    HIGH         62.0         160.0  0.192555   \n",
       "2        29.0      35.0    HIGH         63.0         105.0  0.887882   \n",
       "3        26.0      31.0    HIGH         60.0         174.0  0.407838   \n",
       "4        28.0      39.0     LOW         92.0         153.0  0.324456   \n",
       "\n",
       "   Female Population  # of hospitals  Foreign Visitors  \n",
       "0            34237.0            17.0            2769.0  \n",
       "1            34328.0            13.0          636502.0  \n",
       "2            32434.0            17.0          242367.0  \n",
       "3            32558.0            11.0         4408916.0  \n",
       "4            32159.0            23.0         3104060.0  "
      ]
     },
     "execution_count": 25,
     "metadata": {},
     "output_type": "execute_result"
    }
   ],
   "source": [
    "test.head()"
   ]
  },
  {
   "cell_type": "code",
   "execution_count": 26,
   "metadata": {},
   "outputs": [
    {
     "data": {
      "text/plain": [
       "LOW                   179\n",
       "HIGH                  158\n",
       "MEDIUM                155\n",
       "24747.468686868688      9\n",
       "Name: SWM, dtype: int64"
      ]
     },
     "execution_count": 26,
     "metadata": {},
     "output_type": "execute_result"
    }
   ],
   "source": [
    "test['SWM'].value_counts()"
   ]
  },
  {
   "cell_type": "code",
   "execution_count": 27,
   "metadata": {},
   "outputs": [
    {
     "data": {
      "text/plain": [
       "M                     119\n",
       "N.P                    86\n",
       "M.Cl                   61\n",
       "T.P                    42\n",
       "C.T                    41\n",
       "T.M.C                  22\n",
       "N.P.P                  19\n",
       "N.A                    19\n",
       "M.B                    16\n",
       "M.C                     8\n",
       "UA                      8\n",
       "C.T.                    7\n",
       "M.Cl.                   6\n",
       "N.P.                    6\n",
       "T.C                     6\n",
       "T.M.C.                  5\n",
       "T.P.                    4\n",
       "N.P.P.                  4\n",
       "N.A.C                   3\n",
       "G.P                     3\n",
       "24747.468686868688      2\n",
       "M.C.                    2\n",
       "N.T                     2\n",
       "I.N.A                   1\n",
       "N.A.C.                  1\n",
       "T.C.                    1\n",
       "NP                      1\n",
       "M&F                     1\n",
       "G.P.                    1\n",
       "NAC                     1\n",
       "CT                      1\n",
       "M.B.                    1\n",
       "TP                      1\n",
       "Name: Type, dtype: int64"
      ]
     },
     "execution_count": 27,
     "metadata": {},
     "output_type": "execute_result"
    }
   ],
   "source": [
    "test['Type'].value_counts()"
   ]
  },
  {
   "cell_type": "code",
   "execution_count": 28,
   "metadata": {},
   "outputs": [],
   "source": [
    "test.drop(test[test['SWM'] == 296382.6092023149].index, axis=0, inplace = True) "
   ]
  },
  {
   "cell_type": "code",
   "execution_count": 29,
   "metadata": {},
   "outputs": [],
   "source": [
    "test.drop(test[test['SWM'] == 24747.468686868688].index, axis=0, inplace = True) "
   ]
  },
  {
   "cell_type": "code",
   "execution_count": 30,
   "metadata": {},
   "outputs": [
    {
     "data": {
      "text/plain": [
       "LOW       179\n",
       "HIGH      158\n",
       "MEDIUM    155\n",
       "Name: SWM, dtype: int64"
      ]
     },
     "execution_count": 30,
     "metadata": {},
     "output_type": "execute_result"
    }
   ],
   "source": [
    "test['SWM'].value_counts()"
   ]
  },
  {
   "cell_type": "code",
   "execution_count": 31,
   "metadata": {},
   "outputs": [
    {
     "data": {
      "text/plain": [
       "M                     117\n",
       "N.P                    83\n",
       "M.Cl                   61\n",
       "T.P                    41\n",
       "C.T                    40\n",
       "T.M.C                  22\n",
       "N.P.P                  19\n",
       "N.A                    18\n",
       "M.B                    16\n",
       "M.C                     8\n",
       "UA                      8\n",
       "C.T.                    7\n",
       "M.Cl.                   6\n",
       "N.P.                    6\n",
       "T.C                     5\n",
       "T.M.C.                  5\n",
       "T.P.                    4\n",
       "N.P.P.                  4\n",
       "N.A.C                   3\n",
       "G.P                     3\n",
       "24747.468686868688      2\n",
       "M.C.                    2\n",
       "N.T                     2\n",
       "I.N.A                   1\n",
       "N.A.C.                  1\n",
       "T.C.                    1\n",
       "NP                      1\n",
       "M&F                     1\n",
       "G.P.                    1\n",
       "NAC                     1\n",
       "CT                      1\n",
       "M.B.                    1\n",
       "TP                      1\n",
       "Name: Type, dtype: int64"
      ]
     },
     "execution_count": 31,
     "metadata": {},
     "output_type": "execute_result"
    }
   ],
   "source": [
    "test['Type'].value_counts()"
   ]
  },
  {
   "cell_type": "code",
   "execution_count": 32,
   "metadata": {},
   "outputs": [],
   "source": [
    "test.drop(test[test['Type'] == 24747.468686868688].index, axis=0, inplace = True) "
   ]
  },
  {
   "cell_type": "code",
   "execution_count": 33,
   "metadata": {},
   "outputs": [
    {
     "data": {
      "text/plain": [
       "City                 0\n",
       "State                0\n",
       "Type                 0\n",
       "Population [2011]    0\n",
       "Sex Ratio            0\n",
       "Median Age           0\n",
       "Avg Temp             0\n",
       "SWM                  0\n",
       "Toilets Avl          0\n",
       "Water Purity         0\n",
       "H Index              0\n",
       "Female Population    0\n",
       "# of hospitals       0\n",
       "Foreign Visitors     0\n",
       "dtype: int64"
      ]
     },
     "execution_count": 33,
     "metadata": {},
     "output_type": "execute_result"
    }
   ],
   "source": [
    "test.isnull().sum()"
   ]
  },
  {
   "cell_type": "code",
   "execution_count": 34,
   "metadata": {},
   "outputs": [],
   "source": [
    "cities = test['City']"
   ]
  },
  {
   "cell_type": "code",
   "execution_count": 35,
   "metadata": {},
   "outputs": [],
   "source": [
    "from sklearn.preprocessing import LabelEncoder #Converting categorical values into the numeric \n",
    "le = LabelEncoder() \n",
    "  \n",
    "test['City']= le.fit_transform(test['City']) \n",
    "test['State']= le.fit_transform(test['State']) \n",
    "test['Type']= le.fit_transform(test['Type']) \n",
    "test['SWM']= le.fit_transform(test['SWM']) "
   ]
  },
  {
   "cell_type": "code",
   "execution_count": 36,
   "metadata": {},
   "outputs": [],
   "source": [
    "X1 = train.iloc[:, :-1].values\n",
    "y1 = train.iloc[:, -1].values"
   ]
  },
  {
   "cell_type": "code",
   "execution_count": 37,
   "metadata": {},
   "outputs": [],
   "source": [
    "\n",
    "from sklearn.model_selection import train_test_split\n",
    "\n",
    "# Splitting dataset into training set and test set\n",
    "X_train, X_test, y_train, y_test = train_test_split(X1, y1, test_size=0.3,random_state=109) # 70% training and 30% test"
   ]
  },
  {
   "cell_type": "code",
   "execution_count": 38,
   "metadata": {},
   "outputs": [
    {
     "data": {
      "text/plain": [
       "array([[5.88000000e+02, 3.20000000e+01, 0.00000000e+00, ...,\n",
       "        1.72386000e+05, 8.30000000e+01, 1.48950000e+06],\n",
       "       [3.68000000e+02, 8.00000000e+00, 6.00000000e+00, ...,\n",
       "        4.55820000e+04, 3.00000000e+01, 2.84973000e+05],\n",
       "       [1.90000000e+01, 1.60000000e+01, 0.00000000e+00, ...,\n",
       "        2.21237000e+05, 9.90000000e+01, 3.10283417e+05],\n",
       "       ...,\n",
       "       [5.26000000e+02, 2.60000000e+01, 3.30000000e+01, ...,\n",
       "        3.48170000e+04, 1.60000000e+01, 4.68470700e+06],\n",
       "       [2.82000000e+02, 3.00000000e+01, 0.00000000e+00, ...,\n",
       "        1.67933000e+05, 6.80000000e+01, 3.10406000e+06],\n",
       "       [6.57000000e+02, 8.00000000e+00, 0.00000000e+00, ...,\n",
       "        1.54908000e+05, 9.50000000e+01, 2.84973000e+05]])"
      ]
     },
     "execution_count": 38,
     "metadata": {},
     "output_type": "execute_result"
    }
   ],
   "source": [
    "X_train"
   ]
  },
  {
   "cell_type": "code",
   "execution_count": 39,
   "metadata": {
    "scrolled": true
   },
   "outputs": [
    {
     "data": {
      "text/html": [
       "<div>\n",
       "<style scoped>\n",
       "    .dataframe tbody tr th:only-of-type {\n",
       "        vertical-align: middle;\n",
       "    }\n",
       "\n",
       "    .dataframe tbody tr th {\n",
       "        vertical-align: top;\n",
       "    }\n",
       "\n",
       "    .dataframe thead th {\n",
       "        text-align: right;\n",
       "    }\n",
       "</style>\n",
       "<table border=\"1\" class=\"dataframe\">\n",
       "  <thead>\n",
       "    <tr style=\"text-align: right;\">\n",
       "      <th></th>\n",
       "      <th>City</th>\n",
       "      <th>State</th>\n",
       "      <th>Type</th>\n",
       "      <th>Population [2011]</th>\n",
       "      <th>Sex Ratio</th>\n",
       "      <th>Median Age</th>\n",
       "      <th>Avg Temp</th>\n",
       "      <th>SWM</th>\n",
       "      <th>Toilets Avl</th>\n",
       "      <th>Water Purity</th>\n",
       "      <th>H Index</th>\n",
       "      <th>Female Population</th>\n",
       "      <th># of hospitals</th>\n",
       "      <th>Foreign Visitors</th>\n",
       "    </tr>\n",
       "  </thead>\n",
       "  <tbody>\n",
       "    <tr>\n",
       "      <th>0</th>\n",
       "      <td>439</td>\n",
       "      <td>19</td>\n",
       "      <td>24</td>\n",
       "      <td>36774.000000</td>\n",
       "      <td>931.0</td>\n",
       "      <td>23.0</td>\n",
       "      <td>10.0</td>\n",
       "      <td>2</td>\n",
       "      <td>94.0</td>\n",
       "      <td>114.0</td>\n",
       "      <td>0.253390</td>\n",
       "      <td>34237.0</td>\n",
       "      <td>17.0</td>\n",
       "      <td>2769.0</td>\n",
       "    </tr>\n",
       "    <tr>\n",
       "      <th>1</th>\n",
       "      <td>69</td>\n",
       "      <td>12</td>\n",
       "      <td>26</td>\n",
       "      <td>36754.000000</td>\n",
       "      <td>934.0</td>\n",
       "      <td>25.0</td>\n",
       "      <td>38.0</td>\n",
       "      <td>0</td>\n",
       "      <td>62.0</td>\n",
       "      <td>160.0</td>\n",
       "      <td>0.192555</td>\n",
       "      <td>34328.0</td>\n",
       "      <td>13.0</td>\n",
       "      <td>636502.0</td>\n",
       "    </tr>\n",
       "    <tr>\n",
       "      <th>2</th>\n",
       "      <td>484</td>\n",
       "      <td>21</td>\n",
       "      <td>13</td>\n",
       "      <td>36732.000000</td>\n",
       "      <td>883.0</td>\n",
       "      <td>29.0</td>\n",
       "      <td>35.0</td>\n",
       "      <td>0</td>\n",
       "      <td>63.0</td>\n",
       "      <td>105.0</td>\n",
       "      <td>0.887882</td>\n",
       "      <td>32434.0</td>\n",
       "      <td>17.0</td>\n",
       "      <td>242367.0</td>\n",
       "    </tr>\n",
       "    <tr>\n",
       "      <th>3</th>\n",
       "      <td>479</td>\n",
       "      <td>15</td>\n",
       "      <td>12</td>\n",
       "      <td>36706.000000</td>\n",
       "      <td>887.0</td>\n",
       "      <td>26.0</td>\n",
       "      <td>31.0</td>\n",
       "      <td>0</td>\n",
       "      <td>60.0</td>\n",
       "      <td>174.0</td>\n",
       "      <td>0.407838</td>\n",
       "      <td>32558.0</td>\n",
       "      <td>11.0</td>\n",
       "      <td>4408916.0</td>\n",
       "    </tr>\n",
       "    <tr>\n",
       "      <th>4</th>\n",
       "      <td>421</td>\n",
       "      <td>26</td>\n",
       "      <td>18</td>\n",
       "      <td>36669.000000</td>\n",
       "      <td>877.0</td>\n",
       "      <td>28.0</td>\n",
       "      <td>39.0</td>\n",
       "      <td>1</td>\n",
       "      <td>92.0</td>\n",
       "      <td>153.0</td>\n",
       "      <td>0.324456</td>\n",
       "      <td>32159.0</td>\n",
       "      <td>23.0</td>\n",
       "      <td>3104060.0</td>\n",
       "    </tr>\n",
       "    <tr>\n",
       "      <th>...</th>\n",
       "      <td>...</td>\n",
       "      <td>...</td>\n",
       "      <td>...</td>\n",
       "      <td>...</td>\n",
       "      <td>...</td>\n",
       "      <td>...</td>\n",
       "      <td>...</td>\n",
       "      <td>...</td>\n",
       "      <td>...</td>\n",
       "      <td>...</td>\n",
       "      <td>...</td>\n",
       "      <td>...</td>\n",
       "      <td>...</td>\n",
       "      <td>...</td>\n",
       "    </tr>\n",
       "    <tr>\n",
       "      <th>496</th>\n",
       "      <td>166</td>\n",
       "      <td>27</td>\n",
       "      <td>17</td>\n",
       "      <td>1641.000000</td>\n",
       "      <td>848.0</td>\n",
       "      <td>27.0</td>\n",
       "      <td>7.0</td>\n",
       "      <td>2</td>\n",
       "      <td>12.0</td>\n",
       "      <td>181.0</td>\n",
       "      <td>0.316926</td>\n",
       "      <td>1392.0</td>\n",
       "      <td>4.0</td>\n",
       "      <td>105882.0</td>\n",
       "    </tr>\n",
       "    <tr>\n",
       "      <th>497</th>\n",
       "      <td>60</td>\n",
       "      <td>27</td>\n",
       "      <td>17</td>\n",
       "      <td>1517.000000</td>\n",
       "      <td>852.0</td>\n",
       "      <td>28.0</td>\n",
       "      <td>12.0</td>\n",
       "      <td>0</td>\n",
       "      <td>16.0</td>\n",
       "      <td>198.0</td>\n",
       "      <td>0.336852</td>\n",
       "      <td>1292.0</td>\n",
       "      <td>6.0</td>\n",
       "      <td>105882.0</td>\n",
       "    </tr>\n",
       "    <tr>\n",
       "      <th>498</th>\n",
       "      <td>55</td>\n",
       "      <td>27</td>\n",
       "      <td>17</td>\n",
       "      <td>612.000000</td>\n",
       "      <td>853.0</td>\n",
       "      <td>24.0</td>\n",
       "      <td>9.0</td>\n",
       "      <td>1</td>\n",
       "      <td>19.0</td>\n",
       "      <td>189.0</td>\n",
       "      <td>0.723253</td>\n",
       "      <td>522.0</td>\n",
       "      <td>6.0</td>\n",
       "      <td>105882.0</td>\n",
       "    </tr>\n",
       "    <tr>\n",
       "      <th>499</th>\n",
       "      <td>42</td>\n",
       "      <td>27</td>\n",
       "      <td>17</td>\n",
       "      <td>110.000000</td>\n",
       "      <td>852.0</td>\n",
       "      <td>27.0</td>\n",
       "      <td>8.0</td>\n",
       "      <td>2</td>\n",
       "      <td>18.0</td>\n",
       "      <td>170.0</td>\n",
       "      <td>0.421061</td>\n",
       "      <td>94.0</td>\n",
       "      <td>8.0</td>\n",
       "      <td>105882.0</td>\n",
       "    </tr>\n",
       "    <tr>\n",
       "      <th>500</th>\n",
       "      <td>63</td>\n",
       "      <td>26</td>\n",
       "      <td>0</td>\n",
       "      <td>24747.468687</td>\n",
       "      <td>863.0</td>\n",
       "      <td>24.0</td>\n",
       "      <td>35.0</td>\n",
       "      <td>0</td>\n",
       "      <td>19.0</td>\n",
       "      <td>149.0</td>\n",
       "      <td>0.154375</td>\n",
       "      <td>0.0</td>\n",
       "      <td>6.0</td>\n",
       "      <td>3104060.0</td>\n",
       "    </tr>\n",
       "  </tbody>\n",
       "</table>\n",
       "<p>490 rows × 14 columns</p>\n",
       "</div>"
      ],
      "text/plain": [
       "     City  State  Type  Population [2011]  Sex Ratio  Median Age  Avg Temp  \\\n",
       "0     439     19    24       36774.000000      931.0        23.0      10.0   \n",
       "1      69     12    26       36754.000000      934.0        25.0      38.0   \n",
       "2     484     21    13       36732.000000      883.0        29.0      35.0   \n",
       "3     479     15    12       36706.000000      887.0        26.0      31.0   \n",
       "4     421     26    18       36669.000000      877.0        28.0      39.0   \n",
       "..    ...    ...   ...                ...        ...         ...       ...   \n",
       "496   166     27    17        1641.000000      848.0        27.0       7.0   \n",
       "497    60     27    17        1517.000000      852.0        28.0      12.0   \n",
       "498    55     27    17         612.000000      853.0        24.0       9.0   \n",
       "499    42     27    17         110.000000      852.0        27.0       8.0   \n",
       "500    63     26     0       24747.468687      863.0        24.0      35.0   \n",
       "\n",
       "     SWM  Toilets Avl  Water Purity   H Index  Female Population  \\\n",
       "0      2         94.0         114.0  0.253390            34237.0   \n",
       "1      0         62.0         160.0  0.192555            34328.0   \n",
       "2      0         63.0         105.0  0.887882            32434.0   \n",
       "3      0         60.0         174.0  0.407838            32558.0   \n",
       "4      1         92.0         153.0  0.324456            32159.0   \n",
       "..   ...          ...           ...       ...                ...   \n",
       "496    2         12.0         181.0  0.316926             1392.0   \n",
       "497    0         16.0         198.0  0.336852             1292.0   \n",
       "498    1         19.0         189.0  0.723253              522.0   \n",
       "499    2         18.0         170.0  0.421061               94.0   \n",
       "500    0         19.0         149.0  0.154375                0.0   \n",
       "\n",
       "     # of hospitals  Foreign Visitors  \n",
       "0              17.0            2769.0  \n",
       "1              13.0          636502.0  \n",
       "2              17.0          242367.0  \n",
       "3              11.0         4408916.0  \n",
       "4              23.0         3104060.0  \n",
       "..              ...               ...  \n",
       "496             4.0          105882.0  \n",
       "497             6.0          105882.0  \n",
       "498             6.0          105882.0  \n",
       "499             8.0          105882.0  \n",
       "500             6.0         3104060.0  \n",
       "\n",
       "[490 rows x 14 columns]"
      ]
     },
     "execution_count": 39,
     "metadata": {},
     "output_type": "execute_result"
    }
   ],
   "source": [
    "test"
   ]
  },
  {
   "cell_type": "code",
   "execution_count": 40,
   "metadata": {},
   "outputs": [
    {
     "data": {
      "text/plain": [
       "1    179\n",
       "0    156\n",
       "2    155\n",
       "Name: SWM, dtype: int64"
      ]
     },
     "execution_count": 40,
     "metadata": {},
     "output_type": "execute_result"
    }
   ],
   "source": [
    "test['SWM'].value_counts()"
   ]
  },
  {
   "cell_type": "markdown",
   "metadata": {},
   "source": [
    "# LogisticRegression"
   ]
  },
  {
   "cell_type": "code",
   "execution_count": 41,
   "metadata": {},
   "outputs": [],
   "source": [
    "from sklearn.linear_model import LogisticRegression"
   ]
  },
  {
   "cell_type": "code",
   "execution_count": 42,
   "metadata": {},
   "outputs": [],
   "source": [
    "model = LogisticRegression(max_iter=2000)"
   ]
  },
  {
   "cell_type": "code",
   "execution_count": 43,
   "metadata": {},
   "outputs": [
    {
     "name": "stderr",
     "output_type": "stream",
     "text": [
      "C:\\Users\\vyshn\\anaconda3\\lib\\site-packages\\sklearn\\linear_model\\_logistic.py:940: ConvergenceWarning: lbfgs failed to converge (status=1):\n",
      "STOP: TOTAL NO. of ITERATIONS REACHED LIMIT.\n",
      "\n",
      "Increase the number of iterations (max_iter) or scale the data as shown in:\n",
      "    https://scikit-learn.org/stable/modules/preprocessing.html\n",
      "Please also refer to the documentation for alternative solver options:\n",
      "    https://scikit-learn.org/stable/modules/linear_model.html#logistic-regression\n",
      "  extra_warning_msg=_LOGISTIC_SOLVER_CONVERGENCE_MSG)\n"
     ]
    },
    {
     "data": {
      "text/plain": [
       "LogisticRegression(C=1.0, class_weight=None, dual=False, fit_intercept=True,\n",
       "                   intercept_scaling=1, l1_ratio=None, max_iter=2000,\n",
       "                   multi_class='auto', n_jobs=None, penalty='l2',\n",
       "                   random_state=None, solver='lbfgs', tol=0.0001, verbose=0,\n",
       "                   warm_start=False)"
      ]
     },
     "execution_count": 43,
     "metadata": {},
     "output_type": "execute_result"
    }
   ],
   "source": [
    "model.fit(X_train, y_train)"
   ]
  },
  {
   "cell_type": "code",
   "execution_count": 44,
   "metadata": {},
   "outputs": [],
   "source": [
    "yhat = model.predict(test)"
   ]
  },
  {
   "cell_type": "code",
   "execution_count": 45,
   "metadata": {
    "scrolled": true
   },
   "outputs": [
    {
     "data": {
      "text/plain": [
       "array([ 2285,  2220,  2069,  2628,  2434,  2220,  2628,  9538,  2220,\n",
       "        2052,  2490,  2628, 12365,  2648,  2628,  2220,  2220,  2220,\n",
       "        2220,  2069,  2220,  2052,  1689,  2628,  2052,  2220,  2628,\n",
       "        2301,  2285,  2976,  2220,  2052,  3702,  2628,  2628,  2132,\n",
       "        2301,  2052,  2220,  2052,  2628,  2628,  2220,  2976,  2648,\n",
       "        2220,  2220,  2220,  2220,  2628,  2069,  2069,  2220,  9441,\n",
       "        2473,  2487,  2188,  2220,  9538,  2628,  2052,  2628,  2473,\n",
       "        2576,  2220,  2450,  2069,  2196,  2163,  2523,  2523,  2163,\n",
       "        2450,  9538,  2473,  9179,  2052,  2628,  2052,  2069,  2628,\n",
       "        2220,  2220,  2220,  2628,  2473,  2976,  9538,  2450,  3734,\n",
       "        2220,  2220,  2220,  2220,  2450,  2628,  2473,  2628,  2450,\n",
       "        2487,  2052,  2628,  2628,  2301,  2220,  2628,  3734,  2220,\n",
       "        2220,  2052,  2628,  2576,  8263,  2628, 10608,  2628,  2285,\n",
       "        2382,  2052,  2052,  2382,  2220,  9179,  2473, 10933,  2487,\n",
       "        2628,  2628,  2628,  2628,  1996,  2576,  2576,  3315,  3315,\n",
       "        2220,  2648, 10608,  2220,  2473,  2220,  2628,  2473,  2216,\n",
       "        2052,  2220,  2487,  2628,  2628,  2220,  2431,  2052,  2628,\n",
       "        2220,  2628,  2628,  2220,  2538,  2473,  1996,  8263,  9995,\n",
       "        2220,  2052,  2052,  2220,  2052,  2052,  2387,  2220,  2538,\n",
       "        2052,  2628,  2628,  2220,  2473,  2473,  2473,  2220,  8263,\n",
       "        2473,  2220,  2628,  7682,  2052,  2473,  1996,  2052,  2686,\n",
       "        2686,  2686,  2686,  2398,  2473,  2628,  2576,  2628,  2052,\n",
       "        2382,  2220,  2398,  2576,  2382,  2382,  2220,  2220,  2628,\n",
       "        2473,  2628,  9179,  2487,  2628,  2628,  2103,  2103,  2628,\n",
       "        2628,  2220,  2220,  2052,  2628,  2628,  2220,  2220,  2220,\n",
       "        2628,  2628,  2220,  2628,  2628,  2473,  2628,  2628,  2382,\n",
       "        2220,  2052,  2628,  2576,  2220,  2628,  2052,  2247,  2628,\n",
       "        2648,  2628,  2628,  2220,  2648,  2628,  2473,  2220,  2220,\n",
       "        2628,  2628,  8263,  2628,  2220,  2220,  2052,  2576,  2220,\n",
       "        2628,  2052,  2247,  2628,  2220,  2628,  2576,  2628,  2052,\n",
       "        2628,  2220,  2628,  2473,  2220,  2628,  2628,  2487,  2382,\n",
       "        2628,  8263,  8300,  2220,  2220,  8263,  2247,  2216,  2473,\n",
       "        2628,  2220,  2220,  2628,  2628,  2628,  2628,  2576,  2052,\n",
       "        2382,  2628,  2220,  2247,  2628,  2628,  2628,  2220,  2628,\n",
       "        2220,  2220,  2382,  2628,  2382,  2628,  2220,  9538,  2247,\n",
       "        2220,  2052,  2220,  2576,  2052,  2628,  2628,  9995,  2052,\n",
       "        2628,  2628,  2628,  2628,  2628,  2382,  2213,  2220,  2220,\n",
       "        2628,  3702,  3702,  3702,  3702,  2473,  2628,  2220,  2628,\n",
       "        2052,  2247,  2052,  2052,  2648,  2220,  2052,  2628,  2216,\n",
       "        2382,  2129,  2576,  2628,  2382,  2628,  2247, 10586,  2220,\n",
       "        2052,  2628,  2247,  2576,  2628,  8300,  2628,  2220,  2052,\n",
       "        2628,  2628,  2220,  2628,  2220,  8300,  2220,  2247,  2628,\n",
       "        2628,  2576,  2628,  2628,  2523,  2628,  2628,  2382,  2628,\n",
       "        2628,  8263,  2628,  2473,  2052,  2220,  2628,  2628,  2382,\n",
       "        2628,  2628,  9995,  2220,  2382,  2628,  2628,  2628,  2220,\n",
       "        2628,  9441,  2628,  9995,  2576,  2301,  2628,  8300,  2628,\n",
       "        2628,  9441,  2301, 10933,  2220,  2247,  8300,  2628,  2382,\n",
       "        9441,  8300,  8300,  8300,  2220,  2301,  8300,  2220,  8300,\n",
       "        2628,  2295,  2220,  2628,  2069,  2220,  2523,  2240,  2628,\n",
       "        2523,  2628,  2165,  2473,  2473,  2247,  2473,  2523,  2382,\n",
       "        2270,  2247,  2473,  2247,  2628,  2473,  2247,  2473,  2220,\n",
       "        2247,  2052,  3702,  3702,  3702,  3702,  3702,  3702,  3702,\n",
       "        3702,  3702,  2523,  2523,  2220,  2628,  2628,  2270,  2270,\n",
       "        2270,  2523,  2052,  2628,  2052,  2052,  2052,  2052,  2052,\n",
       "        2052,  2628,  2628,  3007], dtype=int64)"
      ]
     },
     "execution_count": 45,
     "metadata": {},
     "output_type": "execute_result"
    }
   ],
   "source": [
    "yhat"
   ]
  },
  {
   "cell_type": "code",
   "execution_count": 46,
   "metadata": {},
   "outputs": [],
   "source": [
    "from sklearn.svm import SVR"
   ]
  },
  {
   "cell_type": "code",
   "execution_count": 47,
   "metadata": {},
   "outputs": [],
   "source": [
    "svm_confirmed = SVR()"
   ]
  },
  {
   "cell_type": "code",
   "execution_count": 48,
   "metadata": {},
   "outputs": [
    {
     "data": {
      "text/plain": [
       "SVR(C=1.0, cache_size=200, coef0=0.0, degree=3, epsilon=0.1, gamma='scale',\n",
       "    kernel='rbf', max_iter=-1, shrinking=True, tol=0.001, verbose=False)"
      ]
     },
     "execution_count": 48,
     "metadata": {},
     "output_type": "execute_result"
    }
   ],
   "source": [
    "svm_confirmed.fit(X_test, y_test)"
   ]
  },
  {
   "cell_type": "code",
   "execution_count": 49,
   "metadata": {},
   "outputs": [],
   "source": [
    "svm_pred_confirm = svm_confirmed.predict(test)"
   ]
  },
  {
   "cell_type": "code",
   "execution_count": 50,
   "metadata": {},
   "outputs": [
    {
     "data": {
      "text/plain": [
       "array([2567.2974701 , 2568.41605742, 2567.82747403, 2552.31771486,\n",
       "       2557.65983693, 2568.41630588, 2552.31711895, 2567.58111403,\n",
       "       2568.41286723, 2567.48695859, 2567.45455539, 2552.31530135,\n",
       "       2567.29239265, 2567.66747641, 2552.31470444, 2568.41006507,\n",
       "       2568.40942726, 2568.14691027, 2568.14692147, 2567.80862774,\n",
       "       2568.40587977, 2567.48524539, 2567.4170841 , 2552.31355967,\n",
       "       2567.48100037, 2568.40397125, 2552.31934453, 2557.65097108,\n",
       "       2567.28277643, 2567.89415402, 2568.39789508, 2567.47629623,\n",
       "       2567.29083046, 2552.31082744, 2552.30950973, 2567.80883576,\n",
       "       2557.64859169, 2567.47515653, 2568.13524485, 2567.47346466,\n",
       "       2552.31588226, 2552.30988266, 2568.11029902, 2567.88770911,\n",
       "       2567.50883014, 2568.13381061, 2568.45650137, 2568.45664935,\n",
       "       2568.13126241, 2552.30843589, 2567.64975107, 2567.65064988,\n",
       "       2568.43673503, 2567.42939138, 2567.88125634, 2567.79944733,\n",
       "       2557.64655072, 2568.4549664 , 2567.56099658, 2552.31428918,\n",
       "       2567.46643874, 2552.30720346, 2567.91371928, 2568.45091556,\n",
       "       2568.42962996, 2557.64273636, 2567.64423578, 2552.30826534,\n",
       "       2557.64588803, 2568.11257837, 2568.11261229, 2557.64423711,\n",
       "       2557.64098194, 2567.55237962, 2567.90648787, 2567.34564896,\n",
       "       2567.46258743, 2552.31132084, 2567.46106587, 2567.78441079,\n",
       "       2552.30436858, 2568.44418444, 2568.3810815 , 2568.37806993,\n",
       "       2552.31099302, 2567.87033386, 2567.87204182, 2567.55013388,\n",
       "       2557.63817164, 2567.27348135, 2568.11611658, 2568.42243329,\n",
       "       2568.11659123, 2568.11669622, 2557.63884776, 2552.31032546,\n",
       "       2567.86923892, 2552.31055781, 2557.63689796, 2567.63576413,\n",
       "       2567.45647431, 2552.30947977, 2552.30181347, 2557.63418158,\n",
       "       2568.37062491, 2552.30042145, 2567.26731576, 2568.37269953,\n",
       "       2568.36832108, 2567.44945435, 2552.3076872 , 2568.4340489 ,\n",
       "       2567.30235076, 2552.30767153, 2567.40609597, 2552.30003483,\n",
       "       2567.25253515, 2567.41475757, 2567.44725392, 2567.44829651,\n",
       "       2567.41279692, 2568.36556625, 2567.32903427, 2567.85665713,\n",
       "       2567.2616426 , 2567.77031003, 2552.29790678, 2552.30395763,\n",
       "       2552.30448709, 2552.29596898, 2567.47486848, 2568.42258827,\n",
       "       2568.42209518, 2567.2953587 , 2567.29375212, 2568.0962752 ,\n",
       "       2567.47512427, 2567.39655799, 2568.35485124, 2567.88332238,\n",
       "       2568.09337983, 2552.2942269 , 2567.84860867, 2567.75975281,\n",
       "       2567.43601997, 2568.09213151, 2567.76101463, 2552.30172386,\n",
       "       2552.30151319, 2568.39414202, 2557.62243605, 2567.43190174,\n",
       "       2552.29357134, 2568.39476622, 2552.30133622, 2552.29223195,\n",
       "       2568.06302483, 2557.62116233, 2567.87537424, 2567.46385007,\n",
       "       2567.28229645, 2567.25055856, 2568.38996423, 2567.42876535,\n",
       "       2567.42709139, 2568.3880275 , 2567.42511459, 2567.42513438,\n",
       "       2557.6192162 , 2568.34018892, 2557.61839798, 2567.42451495,\n",
       "       2552.29879695, 2552.2900397 , 2568.33829404, 2567.83576821,\n",
       "       2567.83309673, 2567.83451455, 2568.3823922 , 2567.27386113,\n",
       "       2567.83347735, 2568.33664057, 2552.28848534, 2567.37937992,\n",
       "       2567.42202448, 2567.8341864 , 2567.45585083, 2567.42255148,\n",
       "       2568.32089452, 2568.32190414, 2567.85013761, 2567.8168483 ,\n",
       "       2557.61565119, 2567.86226325, 2552.28856813, 2568.39878636,\n",
       "       2552.29594971, 2567.4173455 , 2567.38211521, 2568.37648716,\n",
       "       2557.61304276, 2568.39768993, 2567.38041671, 2567.38089333,\n",
       "       2568.33245656, 2568.33208523, 2552.28598131, 2567.82505533,\n",
       "       2552.29451565, 2567.29697881, 2567.50227812, 2552.2851762 ,\n",
       "       2552.28555267, 2557.61071365, 2557.61075459, 2552.29394109,\n",
       "       2552.28483081, 2568.37008978, 2568.32775465, 2567.40946827,\n",
       "       2552.28390966, 2552.28484911, 2568.32517034, 2568.32499787,\n",
       "       2568.06264028, 2552.28410108, 2557.60743024, 2568.32253679,\n",
       "       2552.28363243, 2552.29185909, 2567.85128589, 2552.28361761,\n",
       "       2552.29164111, 2567.37051302, 2568.06140463, 2567.40820279,\n",
       "       2552.28276943, 2568.38617524, 2568.3208032 , 2552.28169744,\n",
       "       2567.40463822, 2567.81601808, 2552.29052962, 2567.43983197,\n",
       "       2552.29046634, 2552.2902992 , 2568.05652713, 2567.4386448 ,\n",
       "       2557.60347129, 2567.81219733, 2568.05456098, 2568.05500498,\n",
       "       2552.29000102, 2552.28116676, 2567.25417101, 2557.60264396,\n",
       "       2568.05418952, 2568.31161005, 2567.40037249, 2568.37764796,\n",
       "       2568.05368432, 2557.60098123, 2567.39681322, 2567.72687497,\n",
       "       2557.59953594, 2568.30995066, 2557.59931128, 2568.37457995,\n",
       "       2557.59924401, 2567.39601187, 2552.28789023, 2568.30773583,\n",
       "       2552.2870402 , 2567.83740824, 2568.04717462, 2552.28736092,\n",
       "       2552.27820764, 2567.56974731, 2568.34767177, 2557.59834216,\n",
       "       2567.24402279, 2567.42553076, 2568.02176089, 2568.04469623,\n",
       "       2567.2443752 , 2567.71068048, 2567.72065898, 2567.83239014,\n",
       "       2552.28534567, 2568.30158375, 2568.04154055, 2552.28540748,\n",
       "       2552.2851093 , 2557.59514288, 2557.59435545, 2568.36672752,\n",
       "       2567.38877776, 2568.34188195, 2557.59473084, 2567.71155439,\n",
       "       2567.71588926, 2552.27560133, 2557.5937938 , 2552.28420866,\n",
       "       2568.01543886, 2552.28478966, 2567.70976213, 2568.29870528,\n",
       "       2568.3413401 , 2557.59347155, 2567.34776253, 2552.28417974,\n",
       "       2568.29847683, 2567.33905115, 2567.7951017 , 2568.03561702,\n",
       "       2567.3848684 , 2568.29638734, 2568.36014224, 2567.38388642,\n",
       "       2552.27387992, 2552.28295569, 2567.19020914, 2567.38268408,\n",
       "       2552.27315811, 2552.2826052 , 2557.59074728, 2557.5914557 ,\n",
       "       2557.59006329, 2568.3365999 , 2567.71108226, 2568.03214916,\n",
       "       2568.03237297, 2557.58983643, 2567.22283064, 2567.22258433,\n",
       "       2567.22249264, 2567.22249309, 2567.78882758, 2557.58889882,\n",
       "       2568.0298769 , 2552.27218109, 2567.37985191, 2567.70746068,\n",
       "       2567.37941262, 2567.37890205, 2567.41344019, 2567.70730717,\n",
       "       2567.37769562, 2557.58739425, 2567.55194459, 2567.3380773 ,\n",
       "       2567.18042598, 2568.35195672, 2552.28097466, 2567.33701438,\n",
       "       2552.28048964, 2567.7045235 , 2567.16156435, 2568.02751949,\n",
       "       2567.37574631, 2552.26994226, 2567.70220888, 2568.35139872,\n",
       "       2557.58670942, 2567.40919394, 2552.26970286, 2568.28452662,\n",
       "       2567.37341922, 2552.27991326, 2557.58463513, 2568.02287207,\n",
       "       2552.27962763, 2568.02349558, 2567.40657446, 2568.02260009,\n",
       "       2567.69865786, 2557.58374528, 2557.58367278, 2568.34697215,\n",
       "       2552.27855971, 2557.58362272, 2567.7800142 , 2557.58315356,\n",
       "       2552.26837918, 2567.32990973, 2552.26834586, 2552.27779382,\n",
       "       2567.21752258, 2557.58181112, 2567.80994782, 2567.36866853,\n",
       "       2568.01822785, 2552.27760907, 2552.27742094, 2568.32015098,\n",
       "       2557.58051323, 2552.2664213 , 2567.17101526, 2568.01522119,\n",
       "       2568.31710235, 2552.26664262, 2557.58069221, 2552.27590141,\n",
       "       2568.27230493, 2552.27603698, 2567.24204138, 2557.57889758,\n",
       "       2567.17445732, 2568.3361333 , 2567.36158654, 2552.26555168,\n",
       "       2567.39487625, 2557.5782122 , 2552.2752889 , 2567.24072668,\n",
       "       2567.3602513 , 2567.15767655, 2567.67809753, 2567.68347781,\n",
       "       2567.38832869, 2557.5720919 , 2568.30141404, 2567.22778076,\n",
       "       2567.38174808, 2567.37516155, 2567.3736658 , 2567.98349406,\n",
       "       2567.33520908, 2567.36777913, 2567.65268863, 2567.35540461,\n",
       "       2552.26110181, 2567.27970404, 2568.22507959, 2557.55238853,\n",
       "       2567.34624798, 2567.6263966 , 2567.74202051, 2567.33523683,\n",
       "       2557.53902056, 2567.70355795, 2552.23902089, 2568.26021227,\n",
       "       2567.32508454, 2567.32459806, 2567.32285187, 2567.31958374,\n",
       "       2567.68779368, 2568.22384612, 2567.59694002, 2567.31415648,\n",
       "       2567.31275359, 2567.30983535, 2567.27478571, 2567.30749284,\n",
       "       2567.3062588 , 2567.30437819, 2567.21705806, 2567.30141945,\n",
       "       2567.58122097, 2567.15310404, 2567.15213393, 2567.15176296,\n",
       "       2567.15160588, 2567.15025014, 2567.14923934, 2567.14888498,\n",
       "       2567.14886315, 2567.14744015, 2567.28875559, 2567.28711135,\n",
       "       2567.56754977, 2552.22380621, 2568.21695347, 2567.28591003,\n",
       "       2567.28578327, 2567.28365504, 2567.27343785, 2567.6762809 ,\n",
       "       2567.22753135, 2567.25718746, 2567.25480986, 2567.25463127,\n",
       "       2567.25250307, 2567.24846793, 2567.2474918 , 2567.24027885,\n",
       "       2567.23628258, 2557.54717034])"
      ]
     },
     "execution_count": 50,
     "metadata": {},
     "output_type": "execute_result"
    }
   ],
   "source": [
    "svm_pred_confirm"
   ]
  },
  {
   "cell_type": "markdown",
   "metadata": {},
   "source": [
    "# KNN Clssifier"
   ]
  },
  {
   "cell_type": "code",
   "execution_count": 51,
   "metadata": {},
   "outputs": [],
   "source": [
    "#Using KNN Classifier\n",
    "from sklearn.preprocessing import StandardScaler\n",
    "scaler = StandardScaler()\n",
    "scaler.fit(X_train)\n",
    "\n",
    "X_train = scaler.transform(X_train)\n",
    "X_test = scaler.transform(X_test)"
   ]
  },
  {
   "cell_type": "code",
   "execution_count": 52,
   "metadata": {},
   "outputs": [
    {
     "data": {
      "text/plain": [
       "KNeighborsClassifier(algorithm='auto', leaf_size=30, metric='minkowski',\n",
       "                     metric_params=None, n_jobs=None, n_neighbors=5, p=2,\n",
       "                     weights='uniform')"
      ]
     },
     "execution_count": 52,
     "metadata": {},
     "output_type": "execute_result"
    }
   ],
   "source": [
    "from sklearn.neighbors import KNeighborsClassifier\n",
    "classifier = KNeighborsClassifier(n_neighbors=5)\n",
    "classifier.fit(X_train, y_train)"
   ]
  },
  {
   "cell_type": "code",
   "execution_count": 53,
   "metadata": {},
   "outputs": [],
   "source": [
    "y_pred = classifier.predict(test)"
   ]
  },
  {
   "cell_type": "code",
   "execution_count": 54,
   "metadata": {},
   "outputs": [
    {
     "data": {
      "text/plain": [
       "array([145606, 145606, 145606, 145606, 145606, 145606, 145606, 145606,\n",
       "       145606, 145606, 145606, 145606, 145606, 145606, 145606, 145606,\n",
       "       145606, 145606, 145606, 145606, 145606, 145606, 145606, 145606,\n",
       "       145606, 145606, 145606, 145606, 145606, 145606, 145606, 145606,\n",
       "       145606, 145606, 145606, 145606, 145606, 145606, 145606, 145606,\n",
       "       145606, 145606, 145606, 145606, 145606, 145606, 145606, 145606,\n",
       "       145606, 145606, 145606, 145606, 145606, 145606, 145606, 145606,\n",
       "       145606, 145606, 145606, 145606, 145606, 145606, 145606, 145606,\n",
       "       145606, 145606, 145606, 145606, 145606, 145606, 145606, 145606,\n",
       "       145606, 145606, 145606, 145606, 145606, 145606, 145606, 145606,\n",
       "       145606, 145606, 145606, 145606, 145606, 145606, 145606, 145606,\n",
       "       145606, 145606, 145606, 145606, 145606, 145606, 145606, 145606,\n",
       "       145606, 145606, 145606, 145606, 145606, 145606, 145606, 145606,\n",
       "       145606, 145606, 145606, 145606, 145606, 145606, 145606, 145606,\n",
       "       145606, 145606, 145606, 145606, 145606, 145606, 145606, 145606,\n",
       "       145606, 145606, 145606, 145606, 145606, 145606, 145606, 145606,\n",
       "       145606, 145606, 145606, 145606, 145606, 145606, 145606, 145606,\n",
       "       145606, 145606, 145606, 145606, 145606, 145606, 145606, 145606,\n",
       "       145606, 145606, 145606, 145606, 145606, 145606, 145606, 145606,\n",
       "       145606, 145606, 145606, 145606, 145606, 145606, 145606, 145606,\n",
       "       145606, 145606, 145606, 145606, 145606, 145606, 145606, 145606,\n",
       "       145606, 145606, 145606, 145606, 145606, 145606, 145606, 145606,\n",
       "       145606, 145606, 145606, 145606, 145606, 145606, 145606, 145606,\n",
       "       145606, 145606, 145606, 145606, 145606, 145606, 145606, 145606,\n",
       "       145606, 145606, 145606, 145606, 145606, 145606, 145606, 145606,\n",
       "       145606, 145606, 145606, 145606, 145606, 145606, 145606, 145606,\n",
       "       145606, 145606, 145606, 145606, 145606, 145606, 145606, 145606,\n",
       "       145606, 145606, 145606, 145606, 145606, 145606, 145606, 145606,\n",
       "       145606, 145606, 145606, 145606, 145606, 145606, 145606, 145606,\n",
       "       145606, 145606, 145606, 145606, 145606, 145606, 145606, 145606,\n",
       "       145606, 145606, 145606, 145606, 145606, 145606, 145606, 145606,\n",
       "       145606, 145606, 145606, 145606, 145606, 145606, 145606, 145606,\n",
       "       145606, 145606, 145606, 145606, 145606, 145606, 145606, 145606,\n",
       "       145606, 145606, 145606, 145606, 145606, 145606, 145606, 145606,\n",
       "       145606, 145606, 145606, 145606, 145606, 145606, 145606, 145606,\n",
       "       145606, 145606, 145606, 145606, 145606, 145606, 145606, 145606,\n",
       "       145606, 145606, 145606, 145606, 145606, 145606, 145606, 145606,\n",
       "       145606, 145606, 145606, 145606, 145606, 145606, 145606, 145606,\n",
       "       145606, 145606, 145606, 145606, 145606, 145606, 145606, 145606,\n",
       "       145606, 145606, 145606, 145606, 145606, 145606, 145606, 145606,\n",
       "       145606, 145606, 145606, 145606, 145606, 145606, 145606, 145606,\n",
       "       145606, 145606, 145606, 145606, 145606, 145606, 145606, 145606,\n",
       "       145606, 145606, 145606, 145606, 145606, 145606, 145606, 145606,\n",
       "       145606, 145606, 145606, 145606, 145606, 145606, 145606, 145606,\n",
       "       145606, 145606, 145606, 145606, 145606, 145606, 145606, 145606,\n",
       "       145606, 145606, 145606, 145606, 145606, 145606, 145606, 145606,\n",
       "       145606, 145606, 145606, 145606, 145606, 145606, 145606, 145606,\n",
       "       145606, 145606, 145606, 145606, 145606, 145606, 145606, 145606,\n",
       "       145606, 145606, 145606, 145606, 145606, 145606, 145606, 145606,\n",
       "       145606, 145606, 145606, 145606, 145606, 145606, 145606, 145606,\n",
       "       145606, 145606, 145606, 145606, 145606, 145606, 145606, 145606,\n",
       "       145606, 145606, 145606, 145606, 145606, 145606, 145606, 145606,\n",
       "       145606, 145606, 145606, 145606, 145606, 145606, 145606, 145606,\n",
       "       145606, 145606, 145606, 145606, 145606, 145606, 145606, 145606,\n",
       "       145606, 145606, 145606, 145606, 145606, 145606, 145606, 145606,\n",
       "       145606, 145606, 145606, 145606, 145606, 145606, 145606, 145606,\n",
       "       145606, 145606, 145606, 145606, 145606, 145606, 145606, 145606,\n",
       "       145606, 145606, 145606, 145606, 145606,   2587,   2587,   2587,\n",
       "         2587,   2587,   2587,   2587,   2587,   2587, 145606, 145606,\n",
       "       145606, 145606, 145606, 145606, 145606, 145606, 145606, 145606,\n",
       "       145606, 145606, 145606, 145606, 145606, 145606, 145606, 145606,\n",
       "       145606, 145606], dtype=int64)"
      ]
     },
     "execution_count": 54,
     "metadata": {},
     "output_type": "execute_result"
    }
   ],
   "source": [
    "y_pred"
   ]
  },
  {
   "cell_type": "markdown",
   "metadata": {},
   "source": [
    "# Using Guassian Naive Bayes Classifier"
   ]
  },
  {
   "cell_type": "code",
   "execution_count": 55,
   "metadata": {},
   "outputs": [],
   "source": [
    "from sklearn.naive_bayes import GaussianNB"
   ]
  },
  {
   "cell_type": "code",
   "execution_count": 56,
   "metadata": {},
   "outputs": [],
   "source": [
    "gnb = GaussianNB()"
   ]
  },
  {
   "cell_type": "code",
   "execution_count": 57,
   "metadata": {},
   "outputs": [
    {
     "data": {
      "text/plain": [
       "array([2473, 2473, 2473, 2523, 2523, 2473, 2523, 2473, 2473, 2523, 2523,\n",
       "       2523, 2473, 2473, 2523, 2473, 2473, 2473, 2473, 2473, 2473, 2523,\n",
       "       2473, 2523, 2523, 2473, 2523, 2523, 2473, 2473, 2473, 2523, 2175,\n",
       "       2523, 2523, 2473, 2523, 2523, 2473, 2523, 2523, 2523, 2473, 2473,\n",
       "       2473, 2473, 2473, 2473, 2473, 2523, 2473, 2473, 2473, 2473, 2473,\n",
       "       2473, 2523, 2473, 2473, 2523, 2523, 2523, 2473, 2473, 2473, 2523,\n",
       "       2473, 2523, 2523, 2523, 2523, 2523, 2523, 2473, 2473, 2473, 2523,\n",
       "       2523, 2523, 2473, 2523, 2473, 2473, 2473, 2523, 2473, 2473, 2473,\n",
       "       2523, 2473, 2473, 2473, 2473, 2473, 2523, 2523, 2473, 2523, 2523,\n",
       "       2473, 2523, 2523, 2523, 2523, 2473, 2523, 2473, 2473, 2473, 2523,\n",
       "       2523, 2473, 2473, 2523, 2473, 2523, 2473, 2523, 2523, 2523, 2523,\n",
       "       2473, 2473, 2473, 2473, 2473, 2523, 2523, 2523, 2523, 2473, 2473,\n",
       "       2473, 2473, 2473, 2473, 2473, 2473, 2473, 2473, 2473, 2523, 2473,\n",
       "       2473, 2523, 2473, 2473, 2523, 2523, 2473, 2523, 2523, 2523, 2473,\n",
       "       2523, 2523, 2473, 2523, 2473, 2473, 2473, 2473, 2473, 2523, 2523,\n",
       "       2473, 2523, 2523, 2523, 2473, 2523, 2523, 2523, 2523, 2473, 2473,\n",
       "       2473, 2473, 2473, 2473, 2473, 2473, 2523, 2473, 2523, 2473, 2473,\n",
       "       2523, 2132, 2132, 2132, 2132, 2523, 2473, 2523, 2473, 2523, 2523,\n",
       "       2523, 2473, 2523, 2473, 2523, 2523, 2473, 2473, 2523, 2473, 2523,\n",
       "       2473, 2473, 2523, 2523, 2523, 2523, 2523, 2523, 2473, 2473, 2523,\n",
       "       2523, 2523, 2473, 2473, 2473, 2523, 2523, 2473, 2523, 2523, 2473,\n",
       "       2523, 2523, 2523, 2473, 2523, 2523, 2473, 2473, 2523, 2523, 2473,\n",
       "       2523, 2473, 2523, 2523, 2473, 2473, 2523, 2473, 2473, 2473, 2523,\n",
       "       2523, 2473, 2523, 2473, 2473, 2523, 2473, 2473, 2523, 2523, 2473,\n",
       "       2523, 2473, 2523, 2473, 2523, 2523, 2523, 2473, 2523, 2473, 2473,\n",
       "       2523, 2523, 2473, 2473, 2523, 2473, 2473, 2473, 2473, 2473, 2473,\n",
       "       2473, 2473, 2523, 2473, 2473, 2523, 2523, 2523, 2523, 2473, 2523,\n",
       "       2473, 2523, 2473, 2473, 2523, 2523, 2523, 2473, 2523, 2473, 2473,\n",
       "       2473, 2523, 2523, 2523, 2473, 2473, 2473, 2473, 2523, 2473, 2473,\n",
       "       2523, 2523, 2523, 2473, 2523, 2523, 2523, 2523, 2523, 2523, 2473,\n",
       "       2473, 2473, 2473, 2523, 2382, 2382, 2382, 2382, 2473, 2523, 2473,\n",
       "       2523, 2523, 2473, 2523, 2523, 2473, 2473, 2523, 2523, 2473, 2523,\n",
       "       2473, 2473, 2523, 2523, 2523, 2473, 2538, 2473, 2523, 2523, 2473,\n",
       "       2473, 2523, 2473, 2523, 2473, 2523, 2523, 2523, 2473, 2523, 2473,\n",
       "       2473, 2473, 2473, 2523, 2523, 2473, 2523, 2523, 2473, 2523, 2523,\n",
       "       2523, 2523, 2523, 2473, 2523, 2473, 2523, 2473, 2523, 2523, 2473,\n",
       "       2523, 2523, 2473, 2473, 2473, 2523, 2523, 2523, 2473, 2523, 2473,\n",
       "       2523, 2473, 2473, 2523, 2523, 2473, 2523, 2523, 2473, 2523, 2473,\n",
       "       2473, 2473, 2473, 2523, 2473, 2473, 2473, 2473, 2473, 2473, 2523,\n",
       "       2473, 2473, 2473, 2523, 2523, 2473, 2523, 2473, 2473, 2473, 2473,\n",
       "       2523, 2473, 2523, 2473, 2473, 2473, 2473, 2473, 2473, 2473, 2473,\n",
       "       2473, 2473, 2473, 2523, 2473, 2473, 2473, 2473, 2473, 2473, 2382,\n",
       "       2382, 2382, 2382, 2382, 2382, 2382, 2382, 2382, 2473, 2473, 2473,\n",
       "       2210, 2473, 2473, 2473, 2473, 2473, 2473, 2210, 2473, 2473, 2473,\n",
       "       2473, 2473, 2473, 2473, 2473, 2523], dtype=int64)"
      ]
     },
     "execution_count": 57,
     "metadata": {},
     "output_type": "execute_result"
    }
   ],
   "source": [
    "y_pred = gnb.fit(X_train, y_train).predict(test)\n",
    "y_pred"
   ]
  },
  {
   "cell_type": "markdown",
   "metadata": {},
   "source": [
    "# Using Ridge"
   ]
  },
  {
   "cell_type": "code",
   "execution_count": 58,
   "metadata": {},
   "outputs": [],
   "source": [
    "from sklearn.linear_model import Ridge"
   ]
  },
  {
   "cell_type": "code",
   "execution_count": 59,
   "metadata": {},
   "outputs": [],
   "source": [
    "import numpy as np"
   ]
  },
  {
   "cell_type": "code",
   "execution_count": 60,
   "metadata": {},
   "outputs": [],
   "source": [
    "n_samples, n_features = 490, 14"
   ]
  },
  {
   "cell_type": "code",
   "execution_count": 61,
   "metadata": {},
   "outputs": [],
   "source": [
    "rng = np.random.RandomState(0)"
   ]
  },
  {
   "cell_type": "code",
   "execution_count": 62,
   "metadata": {},
   "outputs": [],
   "source": [
    "y = rng.randn(n_samples)"
   ]
  },
  {
   "cell_type": "code",
   "execution_count": 63,
   "metadata": {},
   "outputs": [],
   "source": [
    "X = rng.randn(n_samples, n_features)"
   ]
  },
  {
   "cell_type": "code",
   "execution_count": 64,
   "metadata": {},
   "outputs": [
    {
     "data": {
      "text/plain": [
       "Ridge(alpha=1.0, copy_X=True, fit_intercept=True, max_iter=None,\n",
       "      normalize=False, random_state=None, solver='auto', tol=0.001)"
      ]
     },
     "execution_count": 64,
     "metadata": {},
     "output_type": "execute_result"
    }
   ],
   "source": [
    "clf = Ridge(alpha=1.0)\n",
    "clf.fit(X, y)\n",
    "Ridge()"
   ]
  },
  {
   "cell_type": "code",
   "execution_count": 65,
   "metadata": {},
   "outputs": [
    {
     "data": {
      "text/plain": [
       "array([ 2056.63478649,  6019.33338563,  3516.13210086, 29485.40210016,\n",
       "       21346.11000776,  6013.24159777, 29478.8673563 ,  2797.74379543,\n",
       "        5993.10196822, 11163.37587719, 11312.54642583, 29455.33089375,\n",
       "        2020.15792243,  3033.34427886, 29436.5977583 ,  5968.44918993,\n",
       "        5969.88650363,  4609.9088311 ,  4618.04142365,  3427.47048398,\n",
       "        5942.45975119, 11133.21869255,  2319.83084553, 29416.54062068,\n",
       "       11118.36616327,  5939.98042357, 31139.59139285, 21257.95923743,\n",
       "        1956.54239631,  3680.99837379,  5894.55238061, 11080.95129403,\n",
       "        2537.58339756, 29371.9687336 , 29357.92579466,  3398.9782406 ,\n",
       "       21216.98310719, 11076.55474667,  4538.86810759, 11067.06601842,\n",
       "       31079.48811757, 29356.33784016,  4428.90453036,  3631.81035301,\n",
       "        2519.80926467,  4520.57407188,  7630.21185311,  7637.83992255,\n",
       "        4510.12768125, 29327.92412845,  2909.59853218,  2920.18253697,\n",
       "        8009.53539574,  2311.38075161,  3595.92147425,  3358.89750492,\n",
       "       21200.16431406,  7625.02851196,  2655.04803241, 31051.91563725,\n",
       "       11017.23896328, 29318.78652743,  3703.31248076,  7600.04616   ,\n",
       "        7961.84284184, 21152.68659784,  2878.2446291 , 30435.16908797,\n",
       "       22287.06524546,  5592.98734851,  5598.88883272, 22276.68684026,\n",
       "       21148.1150309 ,  2612.12770866,  3664.55066614,  2049.54056498,\n",
       "       10979.52948131, 30999.22209217, 10969.79779884,  3261.65090163,\n",
       "       29255.89552492,  7550.00283065,  5779.17617059,  5775.27235156,\n",
       "       30982.83091067,  3527.63152287,  3534.19161301,  2591.30865669,\n",
       "       21107.52679724,  1844.77557811,  4415.87338218,  7915.05205946,\n",
       "        4420.1163921 ,  4413.90463192, 21110.25723429, 30969.99963225,\n",
       "        3518.74504094, 30969.58094371, 21091.21280679,  2813.10469975,\n",
       "       10937.70505238, 30958.24582351, 29220.85293522, 21066.20037363,\n",
       "        5719.48315679, 29196.09572841,  1811.47158443,  5726.7335291 ,\n",
       "        5707.52881409, 10892.00598683, 30922.84675687,  7484.68039833,\n",
       "        1881.50339567, 30914.02966062,  2147.94934821, 29181.19871784,\n",
       "        1754.61733226, 11028.18972383, 10881.34541486, 10883.50167992,\n",
       "       11009.14389856,  5688.1781696 ,  1947.30072483,  3444.49041013,\n",
       "        1767.81002513,  3172.20344672, 29139.67351146, 30848.51134185,\n",
       "       30856.46403854, 29119.251304  ,  2287.3132884 ,  7418.11861477,\n",
       "        7417.34572398,  1970.76103874,  1962.31907507,  4284.05949722,\n",
       "        2276.60258783,  2090.3896092 ,  5624.91927369,  3496.95109065,\n",
       "        4269.17066134, 29096.06134075,  3379.59562568,  3103.25387767,\n",
       "       10805.04881723,  4260.74613685,  3101.71619412, 30804.87154059,\n",
       "       30802.44091488,  7734.76246972, 20933.6596561 , 10767.51019471,\n",
       "       29076.03963357,  7740.20688781, 30788.88261354, 29053.69289346,\n",
       "        4129.04219617, 20916.26269544,  3453.51668179,  2218.31017953,\n",
       "        1740.65057377,  1667.68895348,  7702.45753235, 10750.51238654,\n",
       "       10735.60460621,  7689.74622077, 10724.83208417, 10727.0508691 ,\n",
       "       20894.06851378,  5527.87405826, 20880.36467042, 10717.0465954 ,\n",
       "       30742.23284917, 29006.20552181,  5515.85495704,  3284.94215808,\n",
       "        3285.59480537,  3281.3203076 ,  7655.09373773,  1684.42822021,\n",
       "        3274.73444795,  5507.85548773, 28992.30730042,  1961.77720488,\n",
       "       10699.82649343,  3274.65887495,  2162.00918493, 10700.53419926,\n",
       "        3843.26689672,  3847.44741931,  1718.96141897,  1615.01680733,\n",
       "       20848.0836867 ,  3365.46942178, 28979.28301969,  7263.04098838,\n",
       "       30697.02908327, 10677.81401575, 10798.15263313,  7609.86584006,\n",
       "       20823.07534649,  7259.23196203, 10792.20984217, 10799.52830715,\n",
       "        5476.21615643,  5475.06282765, 28936.19418433,  3221.6783866 ,\n",
       "       30663.44720695,  1716.43344812,  2265.77221813, 28923.30726816,\n",
       "       28928.43354408, 20795.27419996, 20792.42443501, 30655.05443578,\n",
       "       28922.6478771 ,  7573.38400889,  5443.1061771 , 10621.10095941,\n",
       "       28902.36243085, 28911.43514336,  5431.56737507,  5418.07298986,\n",
       "        4063.46909711, 28900.41524855, 20759.90446563,  5405.3136396 ,\n",
       "       28893.20675236, 30611.68720925,  3281.22007523, 28895.71761475,\n",
       "       30618.12914041, 10729.11456221,  4051.26826416, 10599.10912365,\n",
       "       28879.0374167 ,  7176.24292523,  5397.1231769 , 28860.11737188,\n",
       "       10583.66598613,  3152.22306203, 30584.48498827,  2044.02534481,\n",
       "       30588.35772974, 30589.34048908,  4029.68330869,  2033.44314051,\n",
       "       20715.86373911,  3138.87245981,  4011.54516257,  4016.2665625 ,\n",
       "       30573.19506542, 28844.70259252,  1538.78449251, 20704.54078613,\n",
       "        4000.45535334,  5350.04226293, 10547.47472052,  7122.97694232,\n",
       "        3996.25044131, 20689.48129781, 10526.19112686,  2852.76410477,\n",
       "       20673.26729383,  5329.48553797, 20672.39592082,  7109.11376481,\n",
       "       20664.62068762, 10516.8432567 , 30529.75838047,  5307.35507051,\n",
       "       30525.36319877,  3197.50300177,  3958.67167047, 30524.08028036,\n",
       "       28800.96395372,  2370.09263333,  7439.70017245, 20647.30631061,\n",
       "        1473.02850835,  1941.85787991,  3850.22325759,  3942.13160961,\n",
       "        1473.08657045,  2776.93838985,  2813.59407523,  3162.67292361,\n",
       "       30494.2993354 ,  5271.00992651,  3927.86945354, 30490.44938514,\n",
       "       30478.72912963, 20622.02804747, 20612.90309431,  7055.77474698,\n",
       "       10459.79221228,  7403.35113062, 20608.01063031,  2771.41316046,\n",
       "        2773.20134646, 28754.90821814, 20610.8425075 , 30459.68919135,\n",
       "        3816.91165829, 30473.1234304 ,  2754.72612092,  5250.79387078,\n",
       "        7379.13432878, 20599.80539493, 10570.17340788, 30459.80870392,\n",
       "        5248.84339659,  1696.96260308,  3020.61489912,  3889.56712134,\n",
       "       10431.09918901,  5231.48893999,  7014.66209353, 10432.76098449,\n",
       "       28715.33198535, 30438.9054699 ,  1303.14282358, 10427.10368462,\n",
       "       28712.24639399, 30439.10070452, 20582.18453931, 20580.1089431 ,\n",
       "       20568.44222556,  7356.5452246 ,  2744.30705763,  3868.53660283,\n",
       "        3867.10655205, 20561.41661184,  3306.4664784 ,  3301.53320263,\n",
       "        3299.61544194,  3301.73747121,  2974.67369556, 20551.23301651,\n",
       "        3846.07856598, 28691.2320244 , 10401.67099926,  2717.776345  ,\n",
       "       10398.36498302, 10396.73500527,  1861.26632246,  2718.0767642 ,\n",
       "       10394.24988918, 20531.43165788,  2242.08775516, 10500.74278652,\n",
       "        1229.17911846,  6958.53933622, 30398.6957231 , 10493.93871387,\n",
       "       30383.89655745,  2696.95251273,   549.10103309,  3830.53153477,\n",
       "       10379.02186414, 28651.15346641,  2684.49020576,  6955.98394974,\n",
       "       20519.92185995,  1836.04799832, 28652.99841456,  5160.51273971,\n",
       "       10358.98939521, 30373.650735  , 20503.64054002,  3801.01365895,\n",
       "       30366.67911075,  3810.1934774 ,  1815.49465117,  3800.68266053,\n",
       "        2667.5314545 , 20492.07614186, 20491.9167706 ,  6916.6617625 ,\n",
       "       30355.02804238, 20491.34174584,  2923.63477228, 20491.92648087,\n",
       "       28623.53349972, 10449.66143894, 28615.11141671, 30339.30188215,\n",
       "        1295.91908552, 20472.32425665,  3005.94946713, 10324.33605118,\n",
       "        3774.16346372, 30336.97631795, 30334.30639252,  7251.34176306,\n",
       "       20464.50662163, 28588.30357483,  1170.90543873,  3752.57568479,\n",
       "        7235.22908291, 28589.6880531 , 20450.75510827, 30298.09689492,\n",
       "        5087.24245781, 30301.55401445,  1344.3537306 , 20433.15068097,\n",
       "        1160.11889936,  6849.35977688, 10283.07880751, 28571.07837591,\n",
       "        1726.18445032, 20428.36059984, 30289.82739253,  1333.38715238,\n",
       "       10272.91944442,  1096.82177927,  2555.32887472,  2553.72190556,\n",
       "        1693.18861496, 20359.61826835,  7130.16741713,  1243.72226826,\n",
       "        1646.81385453,  1591.60403748,  1578.31216671,  3541.31293714,\n",
       "       10084.69098187,  1549.81283021,  2384.80066074,  1463.33203797,\n",
       "       29995.74256581, 10103.53911607,  4781.63368325, 20135.35847286,\n",
       "        1385.49473216,  2207.96781198,  2559.21355296,  1324.46537991,\n",
       "       19973.04398229,  2413.48503469, 28087.13242044,  6370.27103074,\n",
       "        1257.09496653,  1251.18767073,  1235.49231667,  1213.02434003,\n",
       "        2308.06164227,  6628.05818365,  2015.9174113 ,  1166.11930269,\n",
       "        1168.6820882 ,  1138.47831605,  9668.00317885,  1132.17478678,\n",
       "        1120.30041642,  1111.88370773,   851.73460165,  1090.21016604,\n",
       "        1900.25413414,  2720.02155408,  2713.83967514,  2708.88691215,\n",
       "        2708.0512718 ,  2695.60995291,  2684.5013881 ,  2685.9783025 ,\n",
       "        2683.4230883 ,  2666.67034994,  1004.88830651,   990.71423337,\n",
       "        1804.62925874, 27786.69409421,  6084.61636776,   979.24255544,\n",
       "         972.23077357,   963.45762906,   897.11030603,  2107.86675083,\n",
       "        9343.86233332,   783.16438047,   768.90934111,   765.16497589,\n",
       "         749.51351967,   719.78921566,   716.90847001,   666.62231053,\n",
       "         638.38231411, 20313.65307419])"
      ]
     },
     "execution_count": 65,
     "metadata": {},
     "output_type": "execute_result"
    }
   ],
   "source": [
    "a = clf.predict(test)\n",
    "a"
   ]
  },
  {
   "cell_type": "code",
   "execution_count": 66,
   "metadata": {},
   "outputs": [],
   "source": [
    "Final = pd.DataFrame({'City': cities, 'Corona Cases': np.round(a)})"
   ]
  },
  {
   "cell_type": "code",
   "execution_count": 67,
   "metadata": {},
   "outputs": [
    {
     "data": {
      "text/html": [
       "<div>\n",
       "<style scoped>\n",
       "    .dataframe tbody tr th:only-of-type {\n",
       "        vertical-align: middle;\n",
       "    }\n",
       "\n",
       "    .dataframe tbody tr th {\n",
       "        vertical-align: top;\n",
       "    }\n",
       "\n",
       "    .dataframe thead th {\n",
       "        text-align: right;\n",
       "    }\n",
       "</style>\n",
       "<table border=\"1\" class=\"dataframe\">\n",
       "  <thead>\n",
       "    <tr style=\"text-align: right;\">\n",
       "      <th></th>\n",
       "      <th>City</th>\n",
       "      <th>Corona Cases</th>\n",
       "    </tr>\n",
       "  </thead>\n",
       "  <tbody>\n",
       "    <tr>\n",
       "      <th>0</th>\n",
       "      <td>Tuensang</td>\n",
       "      <td>2057.0</td>\n",
       "    </tr>\n",
       "    <tr>\n",
       "      <th>1</th>\n",
       "      <td>Lakshmeshwar</td>\n",
       "      <td>6019.0</td>\n",
       "    </tr>\n",
       "    <tr>\n",
       "      <th>2</th>\n",
       "      <td>Zira</td>\n",
       "      <td>3516.0</td>\n",
       "    </tr>\n",
       "    <tr>\n",
       "      <th>3</th>\n",
       "      <td>Yawal</td>\n",
       "      <td>29485.0</td>\n",
       "    </tr>\n",
       "    <tr>\n",
       "      <th>4</th>\n",
       "      <td>Thana Bhawan</td>\n",
       "      <td>21346.0</td>\n",
       "    </tr>\n",
       "    <tr>\n",
       "      <th>...</th>\n",
       "      <td>...</td>\n",
       "      <td>...</td>\n",
       "    </tr>\n",
       "    <tr>\n",
       "      <th>496</th>\n",
       "      <td>Nandaprayag</td>\n",
       "      <td>720.0</td>\n",
       "    </tr>\n",
       "    <tr>\n",
       "      <th>497</th>\n",
       "      <td>Kirtinagar</td>\n",
       "      <td>717.0</td>\n",
       "    </tr>\n",
       "    <tr>\n",
       "      <th>498</th>\n",
       "      <td>Kedarnath</td>\n",
       "      <td>667.0</td>\n",
       "    </tr>\n",
       "    <tr>\n",
       "      <th>499</th>\n",
       "      <td>Gangotri</td>\n",
       "      <td>638.0</td>\n",
       "    </tr>\n",
       "    <tr>\n",
       "      <th>500</th>\n",
       "      <td>Kumarganj</td>\n",
       "      <td>20314.0</td>\n",
       "    </tr>\n",
       "  </tbody>\n",
       "</table>\n",
       "<p>490 rows × 2 columns</p>\n",
       "</div>"
      ],
      "text/plain": [
       "             City  Corona Cases\n",
       "0        Tuensang        2057.0\n",
       "1    Lakshmeshwar        6019.0\n",
       "2            Zira        3516.0\n",
       "3           Yawal       29485.0\n",
       "4    Thana Bhawan       21346.0\n",
       "..            ...           ...\n",
       "496   Nandaprayag         720.0\n",
       "497    Kirtinagar         717.0\n",
       "498     Kedarnath         667.0\n",
       "499      Gangotri         638.0\n",
       "500     Kumarganj       20314.0\n",
       "\n",
       "[490 rows x 2 columns]"
      ]
     },
     "execution_count": 67,
     "metadata": {},
     "output_type": "execute_result"
    }
   ],
   "source": [
    "Final"
   ]
  },
  {
   "cell_type": "code",
   "execution_count": 70,
   "metadata": {},
   "outputs": [],
   "source": [
    "Final.to_csv(r'C:\\Users\\vyshn\\Desktop\\Data sets\\Output-Part(1).csv')"
   ]
  },
  {
   "cell_type": "code",
   "execution_count": null,
   "metadata": {},
   "outputs": [],
   "source": []
  }
 ],
 "metadata": {
  "anaconda-cloud": {},
  "kernelspec": {
   "display_name": "Python 3",
   "language": "python",
   "name": "python3"
  },
  "language_info": {
   "codemirror_mode": {
    "name": "ipython",
    "version": 3
   },
   "file_extension": ".py",
   "mimetype": "text/x-python",
   "name": "python",
   "nbconvert_exporter": "python",
   "pygments_lexer": "ipython3",
   "version": "3.7.6"
  }
 },
 "nbformat": 4,
 "nbformat_minor": 2
}
